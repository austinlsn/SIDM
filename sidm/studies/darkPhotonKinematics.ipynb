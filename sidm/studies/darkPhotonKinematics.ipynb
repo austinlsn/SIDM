{
 "cells": [
  {
   "cell_type": "markdown",
   "id": "f0d63353-8332-4d42-8c73-9a502e530131",
   "metadata": {
    "tags": []
   },
   "source": [
    "# Dark photon kinematics"
   ]
  },
  {
   "cell_type": "markdown",
   "id": "42f458c1-55b8-4ca3-b969-7159332300fc",
   "metadata": {},
   "source": [
    "I want to plot pT, eta, Lxy, and dPhi to show the range of relevant values and provide an understanding of how these quantities depend on bound state mass, dark photon mass, and dark photon proper decay length. I expect the plots produced here will end up in the AN."
   ]
  },
  {
   "cell_type": "code",
   "execution_count": 1,
   "id": "6d6d040a-f9d7-47d7-8cdb-5bd50284402f",
   "metadata": {
    "tags": []
   },
   "outputs": [],
   "source": [
    "# python\n",
    "import sys\n",
    "import os\n",
    "import importlib\n",
    "# columnar analysis\n",
    "from coffea import processor\n",
    "import awkward as ak\n",
    "from dask.distributed import Client\n",
    "# local\n",
    "sys.path.insert(1, os.path.join(sys.path[0], '../..')) # fixme: there must be a better way to handle this...\n",
    "from sidm.tools import ffschema, sidm_processor, utilities\n",
    "# always reload local modules to pick up changes during development\n",
    "importlib.reload(ffschema)\n",
    "importlib.reload(sidm_processor)\n",
    "importlib.reload(utilities)\n",
    "# plotting\n",
    "import matplotlib.pyplot as plt\n",
    "utilities.set_plot_style()\n",
    "%matplotlib inline"
   ]
  },
  {
   "cell_type": "markdown",
   "id": "fc6dfbb9-6997-49cd-95d2-f20ed37e4d56",
   "metadata": {
    "tags": []
   },
   "source": [
    "Dark photon pT, eta, and dPhi depend alost entirely on the bound state mass, so hold dark photon mass and ctau constant and plot pT, eta, and dPhi vs bound state mass."
   ]
  },
  {
   "cell_type": "code",
   "execution_count": 2,
   "id": "44aa2d1e-07ba-466a-85b8-8bb5eafcf2c8",
   "metadata": {
    "tags": []
   },
   "outputs": [
    {
     "data": {
      "application/vnd.jupyter.widget-view+json": {
<<<<<<< HEAD
       "model_id": "fcfec811de164c19a7ca743d7d4a7989",
=======
       "model_id": "da2e43f79ca641fd9ef993974b948af4",
>>>>>>> 165dc0ab34bb87864001991da58a9ce69a0d1cf3
       "version_major": 2,
       "version_minor": 0
      },
      "text/plain": [
       "Output()"
      ]
     },
     "metadata": {},
     "output_type": "display_data"
    },
    {
     "data": {
      "text/html": [
       "<pre style=\"white-space:pre;overflow-x:auto;line-height:normal;font-family:Menlo,'DejaVu Sans Mono',consolas,'Courier New',monospace\"></pre>\n"
      ],
      "text/plain": []
     },
     "metadata": {},
     "output_type": "display_data"
    },
    {
     "data": {
      "text/html": [
       "<pre style=\"white-space:pre;overflow-x:auto;line-height:normal;font-family:Menlo,'DejaVu Sans Mono',consolas,'Courier New',monospace\">\n",
       "</pre>\n"
      ],
      "text/plain": [
       "\n"
      ]
     },
     "metadata": {},
     "output_type": "display_data"
    },
    {
<<<<<<< HEAD
     "name": "stderr",
     "output_type": "stream",
     "text": [
      "concurrent.futures.process._RemoteTraceback: \n",
      "\"\"\"\n",
      "Traceback (most recent call last):\n",
      "  File \"/opt/conda/lib/python3.9/concurrent/futures/process.py\", line 246, in _process_worker\n",
      "    r = call_item.fn(*call_item.args, **call_item.kwargs)\n",
      "  File \"/opt/conda/lib/python3.9/site-packages/coffea/processor/executor.py\", line 1367, in automatic_retries\n",
      "    raise e\n",
      "  File \"/opt/conda/lib/python3.9/site-packages/coffea/processor/executor.py\", line 1336, in automatic_retries\n",
      "    return func(*args, **kwargs)\n",
      "  File \"/opt/conda/lib/python3.9/site-packages/coffea/processor/executor.py\", line 1417, in metadata_fetcher\n",
      "    with uproot.open({item.filename: None}, timeout=xrootdtimeout) as file:\n",
      "  File \"/opt/conda/lib/python3.9/site-packages/uproot/reading.py\", line 141, in open\n",
      "    file = ReadOnlyFile(\n",
      "  File \"/opt/conda/lib/python3.9/site-packages/uproot/reading.py\", line 580, in __init__\n",
      "    self._source = Source(\n",
      "  File \"/opt/conda/lib/python3.9/site-packages/uproot/source/xrootd.py\", line 272, in __init__\n",
      "    self._open()\n",
      "  File \"/opt/conda/lib/python3.9/site-packages/uproot/source/xrootd.py\", line 275, in _open\n",
      "    self._resource = XRootDResource(self._file_path, self._timeout)\n",
      "  File \"/opt/conda/lib/python3.9/site-packages/uproot/source/xrootd.py\", line 83, in __init__\n",
      "    self._open()\n",
      "  File \"/opt/conda/lib/python3.9/site-packages/uproot/source/xrootd.py\", line 92, in _open\n",
      "    self._xrd_error(status)\n",
      "  File \"/opt/conda/lib/python3.9/site-packages/uproot/source/xrootd.py\", line 118, in _xrd_error\n",
      "    raise OSError(\n",
      "OSError: XRootD error: [FATAL] Auth failed: No protocols left to try\n",
      "in file root://xcache//store/group/lpcmetx/SIDM/ffNtupleV4/2018/SIDM_XXTo2ATo2Mu2E_mXX-1000_mA-1p2_ctau-0p96_TuneCP5_13TeV-madgraph-pythia8/RunIIAutumn18DRPremix-102X_upgrade2018_realistic_v15-v1/210326_154112/0000/ffNtuple_3.root\n",
      "\"\"\"\n",
      "\n",
      "The above exception was the direct cause of the following exception:\n",
      "\n",
      "Traceback (most recent call last):\n",
      "  File \"/opt/conda/lib/python3.9/site-packages/coffea/processor/executor.py\", line 786, in _processwith\n",
      "    merged = _watcher(FH, self, reducer, pool)\n",
      "  File \"/opt/conda/lib/python3.9/site-packages/coffea/processor/executor.py\", line 402, in _watcher\n",
      "    batch = FH.fetch(len(FH.completed))\n",
      "  File \"/opt/conda/lib/python3.9/site-packages/coffea/processor/executor.py\", line 286, in fetch\n",
      "    raise bad_futures[0].exception()\n",
      "OSError: XRootD error: [FATAL] Auth failed: No protocols left to try\n",
      "in file root://xcache//store/group/lpcmetx/SIDM/ffNtupleV4/2018/SIDM_XXTo2ATo2Mu2E_mXX-1000_mA-1p2_ctau-0p96_TuneCP5_13TeV-madgraph-pythia8/RunIIAutumn18DRPremix-102X_upgrade2018_realistic_v15-v1/210326_154112/0000/ffNtuple_3.root\n"
     ]
    },
    {
     "ename": "OSError",
     "evalue": "XRootD error: [FATAL] Auth failed: No protocols left to try\nin file root://xcache//store/group/lpcmetx/SIDM/ffNtupleV4/2018/SIDM_XXTo2ATo2Mu2E_mXX-1000_mA-1p2_ctau-0p96_TuneCP5_13TeV-madgraph-pythia8/RunIIAutumn18DRPremix-102X_upgrade2018_realistic_v15-v1/210326_154112/0000/ffNtuple_3.root",
     "output_type": "error",
     "traceback": [
      "\u001b[0;31m---------------------------------------------------------------------------\u001b[0m",
      "\u001b[0;31mOSError\u001b[0m                                   Traceback (most recent call last)",
      "Cell \u001b[0;32mIn[2], line 24\u001b[0m\n\u001b[1;32m     18\u001b[0m channels \u001b[38;5;241m=\u001b[39m [\u001b[38;5;124m\"\u001b[39m\u001b[38;5;124mbaseNoLj\u001b[39m\u001b[38;5;124m\"\u001b[39m]\n\u001b[1;32m     19\u001b[0m p \u001b[38;5;241m=\u001b[39m sidm_processor\u001b[38;5;241m.\u001b[39mSidmProcessor(\n\u001b[1;32m     20\u001b[0m     channels,\n\u001b[1;32m     21\u001b[0m     [\u001b[38;5;124m\"\u001b[39m\u001b[38;5;124mgenA_base\u001b[39m\u001b[38;5;124m\"\u001b[39m],\n\u001b[1;32m     22\u001b[0m )\n\u001b[0;32m---> 24\u001b[0m output \u001b[38;5;241m=\u001b[39m \u001b[43mrunner\u001b[49m\u001b[38;5;241;43m.\u001b[39;49m\u001b[43mrun\u001b[49m\u001b[43m(\u001b[49m\u001b[43mfileset\u001b[49m\u001b[43m,\u001b[49m\u001b[43m \u001b[49m\u001b[43mtreename\u001b[49m\u001b[38;5;241;43m=\u001b[39;49m\u001b[38;5;124;43m\"\u001b[39;49m\u001b[38;5;124;43mffNtuplizer/ffNtuple\u001b[39;49m\u001b[38;5;124;43m\"\u001b[39;49m\u001b[43m,\u001b[49m\u001b[43m \u001b[49m\u001b[43mprocessor_instance\u001b[49m\u001b[38;5;241;43m=\u001b[39;49m\u001b[43mp\u001b[49m\u001b[43m)\u001b[49m\n\u001b[1;32m     25\u001b[0m out \u001b[38;5;241m=\u001b[39m output[\u001b[38;5;124m\"\u001b[39m\u001b[38;5;124mout\u001b[39m\u001b[38;5;124m\"\u001b[39m]\n",
      "File \u001b[0;32m/opt/conda/lib/python3.9/site-packages/coffea/processor/executor.py:1782\u001b[0m, in \u001b[0;36mRunner.run\u001b[0;34m(self, fileset, processor_instance, treename)\u001b[0m\n\u001b[1;32m   1780\u001b[0m     chunks \u001b[38;5;241m=\u001b[39m fileset\n\u001b[1;32m   1781\u001b[0m \u001b[38;5;28;01melse\u001b[39;00m:\n\u001b[0;32m-> 1782\u001b[0m     chunks \u001b[38;5;241m=\u001b[39m \u001b[38;5;28;43mself\u001b[39;49m\u001b[38;5;241;43m.\u001b[39;49m\u001b[43mpreprocess\u001b[49m\u001b[43m(\u001b[49m\u001b[43mfileset\u001b[49m\u001b[43m,\u001b[49m\u001b[43m \u001b[49m\u001b[43mtreename\u001b[49m\u001b[43m)\u001b[49m\n\u001b[1;32m   1784\u001b[0m \u001b[38;5;28;01mif\u001b[39;00m \u001b[38;5;28mself\u001b[39m\u001b[38;5;241m.\u001b[39mprocessor_compression \u001b[38;5;129;01mis\u001b[39;00m \u001b[38;5;28;01mNone\u001b[39;00m:\n\u001b[1;32m   1785\u001b[0m     pi_to_send \u001b[38;5;241m=\u001b[39m processor_instance\n",
      "File \u001b[0;32m/opt/conda/lib/python3.9/site-packages/coffea/processor/executor.py:1734\u001b[0m, in \u001b[0;36mRunner.preprocess\u001b[0;34m(self, fileset, treename)\u001b[0m\n\u001b[1;32m   1731\u001b[0m \u001b[38;5;28;01mfor\u001b[39;00m filemeta \u001b[38;5;129;01min\u001b[39;00m fileset:\n\u001b[1;32m   1732\u001b[0m     filemeta\u001b[38;5;241m.\u001b[39mmaybe_populate(\u001b[38;5;28mself\u001b[39m\u001b[38;5;241m.\u001b[39mmetadata_cache)\n\u001b[0;32m-> 1734\u001b[0m \u001b[38;5;28;43mself\u001b[39;49m\u001b[38;5;241;43m.\u001b[39;49m\u001b[43m_preprocess_fileset\u001b[49m\u001b[43m(\u001b[49m\u001b[43mfileset\u001b[49m\u001b[43m)\u001b[49m\n\u001b[1;32m   1735\u001b[0m fileset \u001b[38;5;241m=\u001b[39m \u001b[38;5;28mself\u001b[39m\u001b[38;5;241m.\u001b[39m_filter_badfiles(fileset)\n\u001b[1;32m   1737\u001b[0m \u001b[38;5;66;03m# reverse fileset list to match the order of files as presented in version\u001b[39;00m\n\u001b[1;32m   1738\u001b[0m \u001b[38;5;66;03m# v0.7.4. This fixes tests using maxchunks.\u001b[39;00m\n",
      "File \u001b[0;32m/opt/conda/lib/python3.9/site-packages/coffea/processor/executor.py:1461\u001b[0m, in \u001b[0;36mRunner._preprocess_fileset\u001b[0;34m(self, fileset)\u001b[0m\n\u001b[1;32m   1454\u001b[0m pre_executor \u001b[38;5;241m=\u001b[39m \u001b[38;5;28mself\u001b[39m\u001b[38;5;241m.\u001b[39mpre_executor\u001b[38;5;241m.\u001b[39mcopy(\u001b[38;5;241m*\u001b[39m\u001b[38;5;241m*\u001b[39mpre_arg_override)\n\u001b[1;32m   1455\u001b[0m closure \u001b[38;5;241m=\u001b[39m partial(\n\u001b[1;32m   1456\u001b[0m     \u001b[38;5;28mself\u001b[39m\u001b[38;5;241m.\u001b[39mautomatic_retries,\n\u001b[1;32m   1457\u001b[0m     \u001b[38;5;28mself\u001b[39m\u001b[38;5;241m.\u001b[39mretries,\n\u001b[1;32m   1458\u001b[0m     \u001b[38;5;28mself\u001b[39m\u001b[38;5;241m.\u001b[39mskipbadfiles,\n\u001b[1;32m   1459\u001b[0m     partial(\u001b[38;5;28mself\u001b[39m\u001b[38;5;241m.\u001b[39mmetadata_fetcher, \u001b[38;5;28mself\u001b[39m\u001b[38;5;241m.\u001b[39mxrootdtimeout, \u001b[38;5;28mself\u001b[39m\u001b[38;5;241m.\u001b[39malign_clusters),\n\u001b[1;32m   1460\u001b[0m )\n\u001b[0;32m-> 1461\u001b[0m out, _ \u001b[38;5;241m=\u001b[39m \u001b[43mpre_executor\u001b[49m\u001b[43m(\u001b[49m\u001b[43mto_get\u001b[49m\u001b[43m,\u001b[49m\u001b[43m \u001b[49m\u001b[43mclosure\u001b[49m\u001b[43m,\u001b[49m\u001b[43m \u001b[49m\u001b[43mout\u001b[49m\u001b[43m)\u001b[49m\n\u001b[1;32m   1462\u001b[0m \u001b[38;5;28;01mwhile\u001b[39;00m out:\n\u001b[1;32m   1463\u001b[0m     item \u001b[38;5;241m=\u001b[39m out\u001b[38;5;241m.\u001b[39mpop()\n",
      "File \u001b[0;32m/opt/conda/lib/python3.9/site-packages/coffea/processor/executor.py:817\u001b[0m, in \u001b[0;36mFuturesExecutor.__call__\u001b[0;34m(self, items, function, accumulator)\u001b[0m\n\u001b[1;32m    815\u001b[0m \u001b[38;5;28;01melse\u001b[39;00m:\n\u001b[1;32m    816\u001b[0m     mergepoolinstance \u001b[38;5;241m=\u001b[39m \u001b[38;5;28;01mNone\u001b[39;00m\n\u001b[0;32m--> 817\u001b[0m \u001b[38;5;28;01mreturn\u001b[39;00m \u001b[43m_processwith\u001b[49m\u001b[43m(\u001b[49m\u001b[43mpool\u001b[49m\u001b[38;5;241;43m=\u001b[39;49m\u001b[43mpoolinstance\u001b[49m\u001b[43m,\u001b[49m\u001b[43m \u001b[49m\u001b[43mmergepool\u001b[49m\u001b[38;5;241;43m=\u001b[39;49m\u001b[43mmergepoolinstance\u001b[49m\u001b[43m)\u001b[49m\n",
      "File \u001b[0;32m/opt/conda/lib/python3.9/site-packages/coffea/processor/executor.py:801\u001b[0m, in \u001b[0;36mFuturesExecutor.__call__.<locals>._processwith\u001b[0;34m(pool, mergepool)\u001b[0m\n\u001b[1;32m    799\u001b[0m     \u001b[38;5;28;01mreturn\u001b[39;00m accumulate([_decompress(merged), accumulator]), e\n\u001b[1;32m    800\u001b[0m \u001b[38;5;28;01melse\u001b[39;00m:\n\u001b[0;32m--> 801\u001b[0m     \u001b[38;5;28;01mraise\u001b[39;00m e \u001b[38;5;28;01mfrom\u001b[39;00m \u001b[38;5;28;01mNone\u001b[39;00m\n",
      "File \u001b[0;32m/opt/conda/lib/python3.9/site-packages/coffea/processor/executor.py:786\u001b[0m, in \u001b[0;36mFuturesExecutor.__call__.<locals>._processwith\u001b[0;34m(pool, mergepool)\u001b[0m\n\u001b[1;32m    784\u001b[0m \u001b[38;5;28;01mtry\u001b[39;00m:\n\u001b[1;32m    785\u001b[0m     \u001b[38;5;28;01mif\u001b[39;00m mergepool \u001b[38;5;129;01mis\u001b[39;00m \u001b[38;5;28;01mNone\u001b[39;00m:\n\u001b[0;32m--> 786\u001b[0m         merged \u001b[38;5;241m=\u001b[39m \u001b[43m_watcher\u001b[49m\u001b[43m(\u001b[49m\u001b[43mFH\u001b[49m\u001b[43m,\u001b[49m\u001b[43m \u001b[49m\u001b[38;5;28;43mself\u001b[39;49m\u001b[43m,\u001b[49m\u001b[43m \u001b[49m\u001b[43mreducer\u001b[49m\u001b[43m,\u001b[49m\u001b[43m \u001b[49m\u001b[43mpool\u001b[49m\u001b[43m)\u001b[49m\n\u001b[1;32m    787\u001b[0m     \u001b[38;5;28;01melse\u001b[39;00m:\n\u001b[1;32m    788\u001b[0m         merged \u001b[38;5;241m=\u001b[39m _watcher(FH, \u001b[38;5;28mself\u001b[39m, reducer, mergepool)\n",
      "File \u001b[0;32m/opt/conda/lib/python3.9/site-packages/coffea/processor/executor.py:402\u001b[0m, in \u001b[0;36m_watcher\u001b[0;34m(FH, executor, merge_fcn, pool)\u001b[0m\n\u001b[1;32m    396\u001b[0m             progress\u001b[38;5;241m.\u001b[39mupdate(\n\u001b[1;32m    397\u001b[0m                 p_idm,\n\u001b[1;32m    398\u001b[0m                 total\u001b[38;5;241m=\u001b[39mprogress\u001b[38;5;241m.\u001b[39m_tasks[p_idm]\u001b[38;5;241m.\u001b[39mtotal \u001b[38;5;241m+\u001b[39m \u001b[38;5;241m1\u001b[39m,\n\u001b[1;32m    399\u001b[0m                 refresh\u001b[38;5;241m=\u001b[39m\u001b[38;5;28;01mTrue\u001b[39;00m,\n\u001b[1;32m    400\u001b[0m             )\n\u001b[1;32m    401\u001b[0m     \u001b[38;5;28;01melse\u001b[39;00m:  \u001b[38;5;66;03m# Merge within process\u001b[39;00m\n\u001b[0;32m--> 402\u001b[0m         batch \u001b[38;5;241m=\u001b[39m \u001b[43mFH\u001b[49m\u001b[38;5;241;43m.\u001b[39;49m\u001b[43mfetch\u001b[49m\u001b[43m(\u001b[49m\u001b[38;5;28;43mlen\u001b[39;49m\u001b[43m(\u001b[49m\u001b[43mFH\u001b[49m\u001b[38;5;241;43m.\u001b[39;49m\u001b[43mcompleted\u001b[49m\u001b[43m)\u001b[49m\u001b[43m)\u001b[49m\n\u001b[1;32m    403\u001b[0m         merged \u001b[38;5;241m=\u001b[39m _compress(\n\u001b[1;32m    404\u001b[0m             accumulate(\n\u001b[1;32m    405\u001b[0m                 progress\u001b[38;5;241m.\u001b[39mtrack(\n\u001b[0;32m   (...)\u001b[0m\n\u001b[1;32m    412\u001b[0m             executor\u001b[38;5;241m.\u001b[39mcompression,\n\u001b[1;32m    413\u001b[0m         )\n\u001b[1;32m    414\u001b[0m \u001b[38;5;66;03m# Add checkpointing\u001b[39;00m\n",
      "File \u001b[0;32m/opt/conda/lib/python3.9/site-packages/coffea/processor/executor.py:286\u001b[0m, in \u001b[0;36m_FuturesHolder.fetch\u001b[0;34m(self, N)\u001b[0m\n\u001b[1;32m    284\u001b[0m bad_futures \u001b[38;5;241m=\u001b[39m [future \u001b[38;5;28;01mfor\u001b[39;00m future \u001b[38;5;129;01min\u001b[39;00m _completed \u001b[38;5;28;01mif\u001b[39;00m \u001b[38;5;129;01mnot\u001b[39;00m _good_future(future)]\n\u001b[1;32m    285\u001b[0m \u001b[38;5;28mself\u001b[39m\u001b[38;5;241m.\u001b[39mcompleted\u001b[38;5;241m.\u001b[39mupdate(good_futures)\n\u001b[0;32m--> 286\u001b[0m \u001b[38;5;28;01mraise\u001b[39;00m bad_futures[\u001b[38;5;241m0\u001b[39m]\u001b[38;5;241m.\u001b[39mexception()\n",
      "\u001b[0;31mOSError\u001b[0m: XRootD error: [FATAL] Auth failed: No protocols left to try\nin file root://xcache//store/group/lpcmetx/SIDM/ffNtupleV4/2018/SIDM_XXTo2ATo2Mu2E_mXX-1000_mA-1p2_ctau-0p96_TuneCP5_13TeV-madgraph-pythia8/RunIIAutumn18DRPremix-102X_upgrade2018_realistic_v15-v1/210326_154112/0000/ffNtuple_3.root"
     ]
=======
     "data": {
      "application/vnd.jupyter.widget-view+json": {
       "model_id": "496bbe92ffca4c858c6224a8aebb16bd",
       "version_major": 2,
       "version_minor": 0
      },
      "text/plain": [
       "Output()"
      ]
     },
     "metadata": {},
     "output_type": "display_data"
    },
    {
     "name": "stdout",
     "output_type": "stream",
     "text": [
      "Not applying any cuts to the lepton jets for channel  baseNoLj\n",
      "Not applying any cuts to the lepton jets for channel  baseNoLj\n",
      "Not applying any cuts to the lepton jets for channel  baseNoLj\n",
      "Not applying any cuts to the lepton jets for channel  baseNoLj\n",
      "Not applying any cuts to the lepton jets for channel  baseNoLj\n",
      "Not applying any cuts to the lepton jets for channel  baseNoLj\n",
      "Not applying any cuts to the lepton jets for channel  baseNoLj\n",
      "Not applying any cuts to the lepton jets for channel  baseNoLj\n",
      "Not applying any cuts to the lepton jets for channel  baseNoLj\n",
      "Not applying any cuts to the lepton jets for channel  baseNoLj\n",
      "Not applying any cuts to the lepton jets for channel  baseNoLj\n",
      "Not applying any cuts to the lepton jets for channel  baseNoLj\n",
      "Not applying any cuts to the lepton jets for channel  baseNoLj\n",
      "Not applying any cuts to the lepton jets for channel  baseNoLj\n",
      "Not applying any cuts to the lepton jets for channel  baseNoLj\n",
      "Not applying any cuts to the lepton jets for channel  baseNoLj\n",
      "Not applying any cuts to the lepton jets for channel  baseNoLj\n",
      "Not applying any cuts to the lepton jets for channel  baseNoLj\n",
      "Not applying any cuts to the lepton jets for channel  baseNoLj\n",
      "Not applying any cuts to the lepton jets for channel  baseNoLj\n",
      "Not applying any cuts to the lepton jets for channel  baseNoLj\n",
      "Not applying any cuts to the lepton jets for channel  baseNoLj\n",
      "Not applying any cuts to the lepton jets for channel  baseNoLj\n",
      "Not applying any cuts to the lepton jets for channel  baseNoLj\n",
      "Not applying any cuts to the lepton jets for channel  baseNoLj\n"
     ]
    },
    {
     "data": {
      "text/html": [
       "<pre style=\"white-space:pre;overflow-x:auto;line-height:normal;font-family:Menlo,'DejaVu Sans Mono',consolas,'Courier New',monospace\"></pre>\n"
      ],
      "text/plain": []
     },
     "metadata": {},
     "output_type": "display_data"
    },
    {
     "data": {
      "text/html": [
       "<pre style=\"white-space:pre;overflow-x:auto;line-height:normal;font-family:Menlo,'DejaVu Sans Mono',consolas,'Courier New',monospace\">\n",
       "</pre>\n"
      ],
      "text/plain": [
       "\n"
      ]
     },
     "metadata": {},
     "output_type": "display_data"
>>>>>>> 165dc0ab34bb87864001991da58a9ce69a0d1cf3
    }
   ],
   "source": [
    "samples = [\n",
    "    \"2Mu2E_100GeV_1p2GeV_9p6mm\",\n",
    "    \"2Mu2E_150GeV_1p2GeV_6p4mm\",\n",
    "    \"2Mu2E_200GeV_1p2GeV_4p8mm\",\n",
    "    \"2Mu2E_500GeV_1p2GeV_1p9mm\",\n",
    "    \"2Mu2E_800GeV_1p2GeV_1p2mm\",\n",
    "    \"2Mu2E_1000GeV_1p2GeV_0p96mm\",\n",
    "]\n",
    "fileset = utilities.make_fileset(samples, \"ffntuple_v4\")\n",
    "\n",
    "runner = processor.Runner(\n",
    "    #executor=processor.IterativeExecutor(),\n",
    "    executor=processor.FuturesExecutor(),\n",
    "    schema=ffschema.FFSchema,\n",
    "    #maxchunks=1,\n",
    ")\n",
    "\n",
    "channels = [\"baseNoLj\"]\n",
    "p = sidm_processor.SidmProcessor(\n",
    "    channels,\n",
    "    [\"genA_base\"],\n",
    ")\n",
    "\n",
    "output = runner.run(fileset, treename=\"ffNtuplizer/ffNtuple\", processor_instance=p)\n",
    "out = output[\"out\"]"
   ]
  },
  {
   "cell_type": "code",
<<<<<<< HEAD
   "execution_count": null,
=======
   "execution_count": 3,
>>>>>>> 165dc0ab34bb87864001991da58a9ce69a0d1cf3
   "id": "da5b76fb-6e02-42b5-a949-d3f39470998f",
   "metadata": {
    "tags": []
   },
   "outputs": [],
   "source": [
    "masses = [s.split(\"_\")[1] for s in samples]\n",
    "plt.subplots(1, 3, figsize=(36, 10))\n",
    "plt.subplot(1, 3, 1)\n",
    "for sample in samples:\n",
    "    utilities.plot(out[sample][\"hists\"][\"genA_pt_highRange\"][channels[0], ::2j], density=True)\n",
    "    plt.legend(masses, title=\"DM bound state mass\", alignment=\"left\")\n",
    "    plt.ylim(0, 0.05)\n",
    "    plt.ylabel(\"Arbitrary units\")\n",
    "plt.subplot(1, 3, 2)\n",
    "for sample in samples:\n",
    "    utilities.plot(out[sample][\"hists\"][\"genA_eta_phi\"][channels[0], ::2j, :].project(\"genA_eta\"), density=True)\n",
    "    plt.legend(masses, title=\"DM bound state mass\", alignment=\"left\", loc=\"upper left\")\n",
    "    plt.ylim(0, 0.4)\n",
    "    plt.ylabel(\"Arbitrary units\")\n",
    "plt.subplot(1, 3, 3)\n",
    "for sample in samples:\n",
    "    utilities.plot(out[sample][\"hists\"][\"genA_genA_dphi\"][channels[0], :], density=True)\n",
    "    plt.legend(masses, title=\"DM bound state mass\", alignment=\"left\", loc=\"upper left\")\n",
    "    #plt.ylim(0, 7)\n",
    "    plt.ylabel(\"Arbitrary units\")\n",
    "plt.savefig(\"../../plots/dark_photon_pt_eta_deltaPhi.pdf\", bbox_inches=\"tight\")"
   ]
  },
  {
   "cell_type": "markdown",
   "id": "0dc88b37-57ed-4c19-9da0-4df75e88fc77",
   "metadata": {},
   "source": [
    "Great, no surprises here. Next plot dark photon Lxy as a function of dark photon ctau while holding the dark photon and bound state masses fixed."
   ]
  },
  {
   "cell_type": "code",
   "execution_count": null,
   "id": "15f93ac6-7404-4b20-8f07-c53004eaf0ec",
   "metadata": {
    "tags": []
   },
<<<<<<< HEAD
   "outputs": [],
=======
   "outputs": [
    {
     "data": {
      "application/vnd.jupyter.widget-view+json": {
       "model_id": "9bf5d6ed3a7d4b3d9e85f52d2345eba2",
       "version_major": 2,
       "version_minor": 0
      },
      "text/plain": [
       "Output()"
      ]
     },
     "metadata": {},
     "output_type": "display_data"
    },
    {
     "data": {
      "text/html": [
       "<pre style=\"white-space:pre;overflow-x:auto;line-height:normal;font-family:Menlo,'DejaVu Sans Mono',consolas,'Courier New',monospace\"></pre>\n"
      ],
      "text/plain": []
     },
     "metadata": {},
     "output_type": "display_data"
    },
    {
     "data": {
      "text/html": [
       "<pre style=\"white-space:pre;overflow-x:auto;line-height:normal;font-family:Menlo,'DejaVu Sans Mono',consolas,'Courier New',monospace\">\n",
       "</pre>\n"
      ],
      "text/plain": [
       "\n"
      ]
     },
     "metadata": {},
     "output_type": "display_data"
    },
    {
     "data": {
      "application/vnd.jupyter.widget-view+json": {
       "model_id": "f473bb71698747a8890c438bcf7935e3",
       "version_major": 2,
       "version_minor": 0
      },
      "text/plain": [
       "Output()"
      ]
     },
     "metadata": {},
     "output_type": "display_data"
    },
    {
     "name": "stdout",
     "output_type": "stream",
     "text": [
      "Not applying any cuts to the lepton jets for channel  baseNoLj\n",
      "Not applying any cuts to the lepton jets for channel  baseNoLj\n",
      "Not applying any cuts to the lepton jets for channel  baseNoLj\n",
      "Not applying any cuts to the lepton jets for channel  baseNoLj\n",
      "Not applying any cuts to the lepton jets for channel  baseNoLj\n",
      "Not applying any cuts to the lepton jets for channel  baseNoLj\n",
      "Not applying any cuts to the lepton jets for channel  baseNoLj\n",
      "Not applying any cuts to the lepton jets for channel  baseNoLj\n",
      "Not applying any cuts to the lepton jets for channel  baseNoLj\n",
      "Not applying any cuts to the lepton jets for channel  baseNoLj\n",
      "Not applying any cuts to the lepton jets for channel  baseNoLj\n",
      "Not applying any cuts to the lepton jets for channel  baseNoLj\n",
      "Not applying any cuts to the lepton jets for channel  baseNoLj\n",
      "Not applying any cuts to the lepton jets for channel  baseNoLj\n",
      "Not applying any cuts to the lepton jets for channel  baseNoLj\n",
      "Not applying any cuts to the lepton jets for channel  baseNoLj\n",
      "Not applying any cuts to the lepton jets for channel  baseNoLj\n",
      "Not applying any cuts to the lepton jets for channel  baseNoLj\n",
      "Not applying any cuts to the lepton jets for channel  baseNoLj\n",
      "Not applying any cuts to the lepton jets for channel  baseNoLj\n",
      "Not applying any cuts to the lepton jets for channel  baseNoLj\n",
      "Not applying any cuts to the lepton jets for channel  baseNoLj\n",
      "Not applying any cuts to the lepton jets for channel  baseNoLj\n",
      "Not applying any cuts to the lepton jets for channel  baseNoLj\n"
     ]
    },
    {
     "data": {
      "text/html": [
       "<pre style=\"white-space:pre;overflow-x:auto;line-height:normal;font-family:Menlo,'DejaVu Sans Mono',consolas,'Courier New',monospace\"></pre>\n"
      ],
      "text/plain": []
     },
     "metadata": {},
     "output_type": "display_data"
    },
    {
     "data": {
      "text/html": [
       "<pre style=\"white-space:pre;overflow-x:auto;line-height:normal;font-family:Menlo,'DejaVu Sans Mono',consolas,'Courier New',monospace\">\n",
       "</pre>\n"
      ],
      "text/plain": [
       "\n"
      ]
     },
     "metadata": {},
     "output_type": "display_data"
    }
   ],
>>>>>>> 165dc0ab34bb87864001991da58a9ce69a0d1cf3
   "source": [
    "extra_ctau_samples = [\n",
    "    \"2Mu2E_200GeV_1p2GeV_0p048mm\",\n",
    "    \"2Mu2E_200GeV_1p2GeV_0p48mm\",\n",
    "    \"2Mu2E_200GeV_1p2GeV_4p8mm\",\n",
    "    \"2Mu2E_200GeV_1p2GeV_48mm\",\n",
    "]\n",
    "extra_ctau_fileset = utilities.make_fileset(extra_ctau_samples, \"ffntuple_v4\")\n",
    "\n",
    "runner = processor.Runner(\n",
    "    #executor=processor.IterativeExecutor(),\n",
    "    executor=processor.FuturesExecutor(),\n",
    "    schema=ffschema.FFSchema,\n",
    "    #maxchunks=1,\n",
    ")\n",
    "\n",
    "channels = [\"baseNoLj\"]\n",
    "p = sidm_processor.SidmProcessor(\n",
    "    channels,\n",
    "    [\"genA_base\"],\n",
    ")\n",
    "\n",
    "extra_ctau_output = runner.run(extra_ctau_fileset, treename=\"ffNtuplizer/ffNtuple\", processor_instance=p)\n",
    "extra_ctau_out = extra_ctau_output[\"out\"]"
   ]
  },
  {
   "cell_type": "code",
<<<<<<< HEAD
   "execution_count": null,
=======
   "execution_count": 5,
>>>>>>> 165dc0ab34bb87864001991da58a9ce69a0d1cf3
   "id": "95e20cf8-5c7a-4104-a1f4-9b82b93be701",
   "metadata": {
    "tags": []
   },
   "outputs": [],
   "source": [
    "ctaus = [s.split(\"_\")[-1].replace('p', '.') for s in extra_ctau_samples]\n",
    "plt.subplots(1, 2, figsize=(2*12, 10))\n",
    "plt.subplot(1, 2, 1)\n",
    "for sample in extra_ctau_samples:\n",
    "    utilities.plot(extra_ctau_out[sample][\"hists\"][\"genA_lxy_lowRange\"][channels[0], ::2j], density=True)\n",
    "    plt.legend(ctaus, title=r\"Dark photon $c\\tau_0$\", alignment=\"left\")\n",
    "    plt.ylim(1e-4, 10)\n",
    "    plt.yscale(\"log\")\n",
    "    plt.ylabel(\"Arbitrary units\")\n",
    "plt.subplot(1, 2, 2)\n",
    "for sample in extra_ctau_samples:\n",
    "    utilities.plot(extra_ctau_out[sample][\"hists\"][\"genA_lxy\"][channels[0], ::2j], density=True)\n",
    "    plt.legend(ctaus, title=r\"Dark photon $c\\tau_0$\", alignment=\"left\")\n",
    "    plt.ylim(1e-6, 1)\n",
    "    plt.yscale(\"log\")\n",
    "    plt.ylabel(\"Arbitrary units\")\n",
    "plt.savefig(\"../../plots/dark_photon_lxy.pdf\", bbox_inches=\"tight\")"
   ]
  },
  {
   "cell_type": "code",
   "execution_count": null,
   "id": "5074984c-df7f-4bee-898a-59d67aed1ade",
   "metadata": {},
   "outputs": [],
   "source": []
  }
 ],
 "metadata": {
  "kernelspec": {
   "display_name": "Python 3 (ipykernel)",
   "language": "python",
   "name": "python3"
  },
  "language_info": {
   "codemirror_mode": {
    "name": "ipython",
    "version": 3
   },
   "file_extension": ".py",
   "mimetype": "text/x-python",
   "name": "python",
   "nbconvert_exporter": "python",
   "pygments_lexer": "ipython3",
   "version": "3.9.18"
  }
 },
 "nbformat": 4,
 "nbformat_minor": 5
}
