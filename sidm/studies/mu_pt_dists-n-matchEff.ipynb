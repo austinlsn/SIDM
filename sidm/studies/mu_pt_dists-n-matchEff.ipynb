{
 "cells": [
  {
   "cell_type": "markdown",
   "id": "a23a0d16-ce03-4352-bd9c-c107a180f77e",
   "metadata": {
    "tags": []
   },
   "source": [
    "# Plotting pt distributions and differences/ratios of mus\n",
    "\n",
    "## (gen-match efficiency at the bottom)"
   ]
  },
  {
   "cell_type": "code",
   "execution_count": 1,
   "id": "4b35550b-daab-4a49-be90-9993418fea1c",
   "metadata": {
    "tags": []
   },
   "outputs": [],
   "source": [
    "# python\n",
    "import sys\n",
    "import os\n",
    "import importlib\n",
    "from coffea import processor\n",
    "# columnar analysis\n",
    "from coffea.nanoevents import NanoEventsFactory\n",
    "import awkward as ak   #numpy like module for handling arrays\n",
    "#plotting\n",
    "import matplotlib.pyplot as plt\n",
    "import mplhep as hep\n",
    "import numpy as np\n",
    "# local\n",
    "sys.path.insert(1, os.path.join(sys.path[0], '../..')) # fixme: there must be a better way to handle this...\n",
    "from sidm.tools import ffschema, sidm_processor, utilities\n",
    "# always reload local modules to pick up changes during development\n",
    "importlib.reload(ffschema)  #why do we need this?\n",
    "importlib.reload(sidm_processor) \n",
    "importlib.reload(utilities) \n",
    "\n",
    "plt.style.use(hep.style.CMS) # plotting style defined as CMS style"
   ]
  },
  {
   "cell_type": "code",
   "execution_count": 2,
   "id": "d8af0219-83d9-4ddb-a4e5-7f18b741fbff",
   "metadata": {
    "tags": []
   },
   "outputs": [],
   "source": [
    "# Following are the 6 different root files used in the first method of processing\n",
    "samples = [\n",
    "    \"2Mu2E_100GeV_5GeV_4mm\",\n",
    "    \"2Mu2E_150GeV_5GeV_2p7mm\",\n",
    "    \"2Mu2E_200GeV_5GeV_2mm\",\n",
    "    \"2Mu2E_500GeV_5GeV_0p8mm\",\n",
    "    \"2Mu2E_800GeV_5GeV_0p5mm\",\n",
    "    \"2Mu2E_1000GeV_5GeV_0p4mm\",\n",
    "]\n",
    "fileset = utilities.make_fileset(samples, \"ffntuple_v4\")"
   ]
  },
  {
   "cell_type": "code",
   "execution_count": 3,
   "id": "d55203cf-be7c-43ca-819f-2da4f3e0d58e",
   "metadata": {},
   "outputs": [
    {
     "data": {
      "application/vnd.jupyter.widget-view+json": {
       "model_id": "381ab6dcb2624f6ca4e140b19c8ca21b",
       "version_major": 2,
       "version_minor": 0
      },
      "text/plain": [
       "Output()"
      ]
     },
     "metadata": {},
     "output_type": "display_data"
    },
    {
     "data": {
      "text/html": [
       "<pre style=\"white-space:pre;overflow-x:auto;line-height:normal;font-family:Menlo,'DejaVu Sans Mono',consolas,'Courier New',monospace\"></pre>\n"
      ],
      "text/plain": []
     },
     "metadata": {},
     "output_type": "display_data"
    },
    {
     "data": {
      "text/html": [
       "<pre style=\"white-space:pre;overflow-x:auto;line-height:normal;font-family:Menlo,'DejaVu Sans Mono',consolas,'Courier New',monospace\">\n",
       "</pre>\n"
      ],
      "text/plain": [
       "\n"
      ]
     },
     "metadata": {},
     "output_type": "display_data"
    },
    {
     "name": "stderr",
     "output_type": "stream",
     "text": [
      "concurrent.futures.process._RemoteTraceback: \n",
      "\"\"\"\n",
      "Traceback (most recent call last):\n",
      "  File \"/opt/conda/lib/python3.8/concurrent/futures/process.py\", line 239, in _process_worker\n",
      "    r = call_item.fn(*call_item.args, **call_item.kwargs)\n",
      "  File \"/opt/conda/lib/python3.8/site-packages/coffea/processor/executor.py\", line 1367, in automatic_retries\n",
      "    raise e\n",
      "  File \"/opt/conda/lib/python3.8/site-packages/coffea/processor/executor.py\", line 1336, in automatic_retries\n",
      "    return func(*args, **kwargs)\n",
      "  File \"/opt/conda/lib/python3.8/site-packages/coffea/processor/executor.py\", line 1417, in metadata_fetcher\n",
      "    with uproot.open({item.filename: None}, timeout=xrootdtimeout) as file:\n",
      "  File \"/opt/conda/lib/python3.8/site-packages/uproot/reading.py\", line 141, in open\n",
      "    file = ReadOnlyFile(\n",
      "  File \"/opt/conda/lib/python3.8/site-packages/uproot/reading.py\", line 580, in __init__\n",
      "    self._source = Source(\n",
      "  File \"/opt/conda/lib/python3.8/site-packages/uproot/source/xrootd.py\", line 453, in __init__\n",
      "    self._open()\n",
      "  File \"/opt/conda/lib/python3.8/site-packages/uproot/source/xrootd.py\", line 457, in _open\n",
      "    [\n",
      "  File \"/opt/conda/lib/python3.8/site-packages/uproot/source/xrootd.py\", line 458, in <listcomp>\n",
      "    XRootDResource(self._file_path, self._timeout)\n",
      "  File \"/opt/conda/lib/python3.8/site-packages/uproot/source/xrootd.py\", line 83, in __init__\n",
      "    self._open()\n",
      "  File \"/opt/conda/lib/python3.8/site-packages/uproot/source/xrootd.py\", line 92, in _open\n",
      "    self._xrd_error(status)\n",
      "  File \"/opt/conda/lib/python3.8/site-packages/uproot/source/xrootd.py\", line 118, in _xrd_error\n",
      "    raise OSError(\n",
      "OSError: XRootD error: [FATAL] TLS error: resource temporarily unavailable: Unable to connect to red-xcache1.unl.edu; error_ssl\n",
      "in file root://xcache//store/group/lpcmetx/SIDM/ffNtupleV4/2018/SIDM_XXTo2ATo2Mu2E_mXX-500_mA-5_ctau-0p8_TuneCP5_13TeV-madgraph-pythia8/RunIIAutumn18DRPremix-102X_upgrade2018_realistic_v15-v1/210326_160450/0000/ffNtuple_4.root\n",
      "\"\"\"\n",
      "\n",
      "The above exception was the direct cause of the following exception:\n",
      "\n",
      "Traceback (most recent call last):\n",
      "  File \"/opt/conda/lib/python3.8/site-packages/coffea/processor/executor.py\", line 786, in _processwith\n",
      "    merged = _watcher(FH, self, reducer, pool)\n",
      "  File \"/opt/conda/lib/python3.8/site-packages/coffea/processor/executor.py\", line 402, in _watcher\n",
      "    batch = FH.fetch(len(FH.completed))\n",
      "  File \"/opt/conda/lib/python3.8/site-packages/coffea/processor/executor.py\", line 286, in fetch\n",
      "    raise bad_futures[0].exception()\n",
      "OSError: XRootD error: [FATAL] TLS error: resource temporarily unavailable: Unable to connect to red-xcache1.unl.edu; error_ssl\n",
      "in file root://xcache//store/group/lpcmetx/SIDM/ffNtupleV4/2018/SIDM_XXTo2ATo2Mu2E_mXX-500_mA-5_ctau-0p8_TuneCP5_13TeV-madgraph-pythia8/RunIIAutumn18DRPremix-102X_upgrade2018_realistic_v15-v1/210326_160450/0000/ffNtuple_4.root\n"
     ]
    },
    {
     "ename": "OSError",
     "evalue": "XRootD error: [FATAL] TLS error: resource temporarily unavailable: Unable to connect to red-xcache1.unl.edu; error_ssl\nin file root://xcache//store/group/lpcmetx/SIDM/ffNtupleV4/2018/SIDM_XXTo2ATo2Mu2E_mXX-500_mA-5_ctau-0p8_TuneCP5_13TeV-madgraph-pythia8/RunIIAutumn18DRPremix-102X_upgrade2018_realistic_v15-v1/210326_160450/0000/ffNtuple_4.root",
     "output_type": "error",
     "traceback": [
      "\u001b[0;31m---------------------------------------------------------------------------\u001b[0m",
      "\u001b[0;31mOSError\u001b[0m                                   Traceback (most recent call last)",
      "Cell \u001b[0;32mIn[3], line 16\u001b[0m\n\u001b[1;32m      2\u001b[0m runner \u001b[38;5;241m=\u001b[39m processor\u001b[38;5;241m.\u001b[39mRunner(\n\u001b[1;32m      3\u001b[0m     \u001b[38;5;66;03m#executor=processor.IterativeExecutor(),\u001b[39;00m\n\u001b[1;32m      4\u001b[0m     executor\u001b[38;5;241m=\u001b[39mprocessor\u001b[38;5;241m.\u001b[39mFuturesExecutor(),\n\u001b[1;32m      5\u001b[0m     schema\u001b[38;5;241m=\u001b[39mffschema\u001b[38;5;241m.\u001b[39mFFSchema,\n\u001b[1;32m      6\u001b[0m )\n\u001b[1;32m      8\u001b[0m p \u001b[38;5;241m=\u001b[39m sidm_processor\u001b[38;5;241m.\u001b[39mSidmProcessor(\n\u001b[1;32m      9\u001b[0m     [\n\u001b[1;32m     10\u001b[0m         \u001b[38;5;124m\"\u001b[39m\u001b[38;5;124m2mu2e\u001b[39m\u001b[38;5;124m\"\u001b[39m,\n\u001b[0;32m   (...)\u001b[0m\n\u001b[1;32m     13\u001b[0m     [\u001b[38;5;124m\"\u001b[39m\u001b[38;5;124mbase_plus_gen\u001b[39m\u001b[38;5;124m\"\u001b[39m]\n\u001b[1;32m     14\u001b[0m )\n\u001b[0;32m---> 16\u001b[0m output \u001b[38;5;241m=\u001b[39m \u001b[43mrunner\u001b[49m\u001b[38;5;241;43m.\u001b[39;49m\u001b[43mrun\u001b[49m\u001b[43m(\u001b[49m\u001b[43mfileset\u001b[49m\u001b[43m,\u001b[49m\u001b[43m \u001b[49m\u001b[43mtreename\u001b[49m\u001b[38;5;241;43m=\u001b[39;49m\u001b[38;5;124;43m\"\u001b[39;49m\u001b[38;5;124;43mffNtuplizer/ffNtuple\u001b[39;49m\u001b[38;5;124;43m\"\u001b[39;49m\u001b[43m,\u001b[49m\u001b[43m \u001b[49m\u001b[43mprocessor_instance\u001b[49m\u001b[38;5;241;43m=\u001b[39;49m\u001b[43mp\u001b[49m\u001b[43m)\u001b[49m\n\u001b[1;32m     18\u001b[0m ch1 \u001b[38;5;241m=\u001b[39m \u001b[38;5;124m\"\u001b[39m\u001b[38;5;124m2mu2e\u001b[39m\u001b[38;5;124m\"\u001b[39m\n\u001b[1;32m     19\u001b[0m ch2 \u001b[38;5;241m=\u001b[39m \u001b[38;5;124m\"\u001b[39m\u001b[38;5;124m2mu2e_matchedLj\u001b[39m\u001b[38;5;124m\"\u001b[39m\n",
      "File \u001b[0;32m/opt/conda/lib/python3.8/site-packages/coffea/processor/executor.py:1782\u001b[0m, in \u001b[0;36mRunner.run\u001b[0;34m(self, fileset, processor_instance, treename)\u001b[0m\n\u001b[1;32m   1780\u001b[0m     chunks \u001b[38;5;241m=\u001b[39m fileset\n\u001b[1;32m   1781\u001b[0m \u001b[38;5;28;01melse\u001b[39;00m:\n\u001b[0;32m-> 1782\u001b[0m     chunks \u001b[38;5;241m=\u001b[39m \u001b[38;5;28;43mself\u001b[39;49m\u001b[38;5;241;43m.\u001b[39;49m\u001b[43mpreprocess\u001b[49m\u001b[43m(\u001b[49m\u001b[43mfileset\u001b[49m\u001b[43m,\u001b[49m\u001b[43m \u001b[49m\u001b[43mtreename\u001b[49m\u001b[43m)\u001b[49m\n\u001b[1;32m   1784\u001b[0m \u001b[38;5;28;01mif\u001b[39;00m \u001b[38;5;28mself\u001b[39m\u001b[38;5;241m.\u001b[39mprocessor_compression \u001b[38;5;129;01mis\u001b[39;00m \u001b[38;5;28;01mNone\u001b[39;00m:\n\u001b[1;32m   1785\u001b[0m     pi_to_send \u001b[38;5;241m=\u001b[39m processor_instance\n",
      "File \u001b[0;32m/opt/conda/lib/python3.8/site-packages/coffea/processor/executor.py:1734\u001b[0m, in \u001b[0;36mRunner.preprocess\u001b[0;34m(self, fileset, treename)\u001b[0m\n\u001b[1;32m   1731\u001b[0m \u001b[38;5;28;01mfor\u001b[39;00m filemeta \u001b[38;5;129;01min\u001b[39;00m fileset:\n\u001b[1;32m   1732\u001b[0m     filemeta\u001b[38;5;241m.\u001b[39mmaybe_populate(\u001b[38;5;28mself\u001b[39m\u001b[38;5;241m.\u001b[39mmetadata_cache)\n\u001b[0;32m-> 1734\u001b[0m \u001b[38;5;28;43mself\u001b[39;49m\u001b[38;5;241;43m.\u001b[39;49m\u001b[43m_preprocess_fileset\u001b[49m\u001b[43m(\u001b[49m\u001b[43mfileset\u001b[49m\u001b[43m)\u001b[49m\n\u001b[1;32m   1735\u001b[0m fileset \u001b[38;5;241m=\u001b[39m \u001b[38;5;28mself\u001b[39m\u001b[38;5;241m.\u001b[39m_filter_badfiles(fileset)\n\u001b[1;32m   1737\u001b[0m \u001b[38;5;66;03m# reverse fileset list to match the order of files as presented in version\u001b[39;00m\n\u001b[1;32m   1738\u001b[0m \u001b[38;5;66;03m# v0.7.4. This fixes tests using maxchunks.\u001b[39;00m\n",
      "File \u001b[0;32m/opt/conda/lib/python3.8/site-packages/coffea/processor/executor.py:1461\u001b[0m, in \u001b[0;36mRunner._preprocess_fileset\u001b[0;34m(self, fileset)\u001b[0m\n\u001b[1;32m   1454\u001b[0m pre_executor \u001b[38;5;241m=\u001b[39m \u001b[38;5;28mself\u001b[39m\u001b[38;5;241m.\u001b[39mpre_executor\u001b[38;5;241m.\u001b[39mcopy(\u001b[38;5;241m*\u001b[39m\u001b[38;5;241m*\u001b[39mpre_arg_override)\n\u001b[1;32m   1455\u001b[0m closure \u001b[38;5;241m=\u001b[39m partial(\n\u001b[1;32m   1456\u001b[0m     \u001b[38;5;28mself\u001b[39m\u001b[38;5;241m.\u001b[39mautomatic_retries,\n\u001b[1;32m   1457\u001b[0m     \u001b[38;5;28mself\u001b[39m\u001b[38;5;241m.\u001b[39mretries,\n\u001b[1;32m   1458\u001b[0m     \u001b[38;5;28mself\u001b[39m\u001b[38;5;241m.\u001b[39mskipbadfiles,\n\u001b[1;32m   1459\u001b[0m     partial(\u001b[38;5;28mself\u001b[39m\u001b[38;5;241m.\u001b[39mmetadata_fetcher, \u001b[38;5;28mself\u001b[39m\u001b[38;5;241m.\u001b[39mxrootdtimeout, \u001b[38;5;28mself\u001b[39m\u001b[38;5;241m.\u001b[39malign_clusters),\n\u001b[1;32m   1460\u001b[0m )\n\u001b[0;32m-> 1461\u001b[0m out, _ \u001b[38;5;241m=\u001b[39m \u001b[43mpre_executor\u001b[49m\u001b[43m(\u001b[49m\u001b[43mto_get\u001b[49m\u001b[43m,\u001b[49m\u001b[43m \u001b[49m\u001b[43mclosure\u001b[49m\u001b[43m,\u001b[49m\u001b[43m \u001b[49m\u001b[43mout\u001b[49m\u001b[43m)\u001b[49m\n\u001b[1;32m   1462\u001b[0m \u001b[38;5;28;01mwhile\u001b[39;00m out:\n\u001b[1;32m   1463\u001b[0m     item \u001b[38;5;241m=\u001b[39m out\u001b[38;5;241m.\u001b[39mpop()\n",
      "File \u001b[0;32m/opt/conda/lib/python3.8/site-packages/coffea/processor/executor.py:817\u001b[0m, in \u001b[0;36mFuturesExecutor.__call__\u001b[0;34m(self, items, function, accumulator)\u001b[0m\n\u001b[1;32m    815\u001b[0m \u001b[38;5;28;01melse\u001b[39;00m:\n\u001b[1;32m    816\u001b[0m     mergepoolinstance \u001b[38;5;241m=\u001b[39m \u001b[38;5;28;01mNone\u001b[39;00m\n\u001b[0;32m--> 817\u001b[0m \u001b[38;5;28;01mreturn\u001b[39;00m \u001b[43m_processwith\u001b[49m\u001b[43m(\u001b[49m\u001b[43mpool\u001b[49m\u001b[38;5;241;43m=\u001b[39;49m\u001b[43mpoolinstance\u001b[49m\u001b[43m,\u001b[49m\u001b[43m \u001b[49m\u001b[43mmergepool\u001b[49m\u001b[38;5;241;43m=\u001b[39;49m\u001b[43mmergepoolinstance\u001b[49m\u001b[43m)\u001b[49m\n",
      "File \u001b[0;32m/opt/conda/lib/python3.8/site-packages/coffea/processor/executor.py:801\u001b[0m, in \u001b[0;36mFuturesExecutor.__call__.<locals>._processwith\u001b[0;34m(pool, mergepool)\u001b[0m\n\u001b[1;32m    799\u001b[0m     \u001b[38;5;28;01mreturn\u001b[39;00m accumulate([_decompress(merged), accumulator]), e\n\u001b[1;32m    800\u001b[0m \u001b[38;5;28;01melse\u001b[39;00m:\n\u001b[0;32m--> 801\u001b[0m     \u001b[38;5;28;01mraise\u001b[39;00m e \u001b[38;5;28;01mfrom\u001b[39;00m \u001b[38;5;28mNone\u001b[39m\n",
      "File \u001b[0;32m/opt/conda/lib/python3.8/site-packages/coffea/processor/executor.py:786\u001b[0m, in \u001b[0;36mFuturesExecutor.__call__.<locals>._processwith\u001b[0;34m(pool, mergepool)\u001b[0m\n\u001b[1;32m    784\u001b[0m \u001b[38;5;28;01mtry\u001b[39;00m:\n\u001b[1;32m    785\u001b[0m     \u001b[38;5;28;01mif\u001b[39;00m mergepool \u001b[38;5;129;01mis\u001b[39;00m \u001b[38;5;28;01mNone\u001b[39;00m:\n\u001b[0;32m--> 786\u001b[0m         merged \u001b[38;5;241m=\u001b[39m \u001b[43m_watcher\u001b[49m\u001b[43m(\u001b[49m\u001b[43mFH\u001b[49m\u001b[43m,\u001b[49m\u001b[43m \u001b[49m\u001b[38;5;28;43mself\u001b[39;49m\u001b[43m,\u001b[49m\u001b[43m \u001b[49m\u001b[43mreducer\u001b[49m\u001b[43m,\u001b[49m\u001b[43m \u001b[49m\u001b[43mpool\u001b[49m\u001b[43m)\u001b[49m\n\u001b[1;32m    787\u001b[0m     \u001b[38;5;28;01melse\u001b[39;00m:\n\u001b[1;32m    788\u001b[0m         merged \u001b[38;5;241m=\u001b[39m _watcher(FH, \u001b[38;5;28mself\u001b[39m, reducer, mergepool)\n",
      "File \u001b[0;32m/opt/conda/lib/python3.8/site-packages/coffea/processor/executor.py:402\u001b[0m, in \u001b[0;36m_watcher\u001b[0;34m(FH, executor, merge_fcn, pool)\u001b[0m\n\u001b[1;32m    396\u001b[0m             progress\u001b[38;5;241m.\u001b[39mupdate(\n\u001b[1;32m    397\u001b[0m                 p_idm,\n\u001b[1;32m    398\u001b[0m                 total\u001b[38;5;241m=\u001b[39mprogress\u001b[38;5;241m.\u001b[39m_tasks[p_idm]\u001b[38;5;241m.\u001b[39mtotal \u001b[38;5;241m+\u001b[39m \u001b[38;5;241m1\u001b[39m,\n\u001b[1;32m    399\u001b[0m                 refresh\u001b[38;5;241m=\u001b[39m\u001b[38;5;28;01mTrue\u001b[39;00m,\n\u001b[1;32m    400\u001b[0m             )\n\u001b[1;32m    401\u001b[0m     \u001b[38;5;28;01melse\u001b[39;00m:  \u001b[38;5;66;03m# Merge within process\u001b[39;00m\n\u001b[0;32m--> 402\u001b[0m         batch \u001b[38;5;241m=\u001b[39m \u001b[43mFH\u001b[49m\u001b[38;5;241;43m.\u001b[39;49m\u001b[43mfetch\u001b[49m\u001b[43m(\u001b[49m\u001b[38;5;28;43mlen\u001b[39;49m\u001b[43m(\u001b[49m\u001b[43mFH\u001b[49m\u001b[38;5;241;43m.\u001b[39;49m\u001b[43mcompleted\u001b[49m\u001b[43m)\u001b[49m\u001b[43m)\u001b[49m\n\u001b[1;32m    403\u001b[0m         merged \u001b[38;5;241m=\u001b[39m _compress(\n\u001b[1;32m    404\u001b[0m             accumulate(\n\u001b[1;32m    405\u001b[0m                 progress\u001b[38;5;241m.\u001b[39mtrack(\n\u001b[0;32m   (...)\u001b[0m\n\u001b[1;32m    412\u001b[0m             executor\u001b[38;5;241m.\u001b[39mcompression,\n\u001b[1;32m    413\u001b[0m         )\n\u001b[1;32m    414\u001b[0m \u001b[38;5;66;03m# Add checkpointing\u001b[39;00m\n",
      "File \u001b[0;32m/opt/conda/lib/python3.8/site-packages/coffea/processor/executor.py:286\u001b[0m, in \u001b[0;36m_FuturesHolder.fetch\u001b[0;34m(self, N)\u001b[0m\n\u001b[1;32m    284\u001b[0m bad_futures \u001b[38;5;241m=\u001b[39m [future \u001b[38;5;28;01mfor\u001b[39;00m future \u001b[38;5;129;01min\u001b[39;00m _completed \u001b[38;5;28;01mif\u001b[39;00m \u001b[38;5;129;01mnot\u001b[39;00m _good_future(future)]\n\u001b[1;32m    285\u001b[0m \u001b[38;5;28mself\u001b[39m\u001b[38;5;241m.\u001b[39mcompleted\u001b[38;5;241m.\u001b[39mupdate(good_futures)\n\u001b[0;32m--> 286\u001b[0m \u001b[38;5;28;01mraise\u001b[39;00m bad_futures[\u001b[38;5;241m0\u001b[39m]\u001b[38;5;241m.\u001b[39mexception()\n",
      "\u001b[0;31mOSError\u001b[0m: XRootD error: [FATAL] TLS error: resource temporarily unavailable: Unable to connect to red-xcache1.unl.edu; error_ssl\nin file root://xcache//store/group/lpcmetx/SIDM/ffNtupleV4/2018/SIDM_XXTo2ATo2Mu2E_mXX-500_mA-5_ctau-0p8_TuneCP5_13TeV-madgraph-pythia8/RunIIAutumn18DRPremix-102X_upgrade2018_realistic_v15-v1/210326_160450/0000/ffNtuple_4.root"
     ]
    }
   ],
   "source": [
    "\n",
    "ch = \"2mu2e\"\n",
    "runner = processor.Runner(\n",
    "    #executor=processor.IterativeExecutor(),\n",
    "    executor=processor.FuturesExecutor(),\n",
    "    schema=ffschema.FFSchema,\n",
    ")\n",
    "\n",
    "p = sidm_processor.SidmProcessor(\n",
    "    [\n",
    "        \"2mu2e\",\n",
    "        \"2mu2e_matchedLj\"\n",
    "    ],\n",
    "    [\"base_plus_gen\"]\n",
    ")\n",
    "\n",
    "output = runner.run(fileset, treename=\"ffNtuplizer/ffNtuple\", processor_instance=p)\n",
    "\n",
    "ch1 = \"2mu2e\"\n",
    "ch2 = \"2mu2e_matchedLj\""
   ]
  },
  {
   "cell_type": "markdown",
   "id": "f697f60b-7def-4ed6-9585-4d7923c44d42",
   "metadata": {},
   "source": [
    "# pt distributions"
   ]
  },
  {
   "cell_type": "markdown",
   "id": "51c795ad-ced6-45d1-a47a-538531f62b9b",
   "metadata": {},
   "source": [
    "## all genMus:"
   ]
  },
  {
   "cell_type": "code",
   "execution_count": null,
   "id": "fcc112ba-bb80-4eb7-ab76-6ee5ef46b022",
   "metadata": {
    "tags": []
   },
   "outputs": [],
   "source": [
    "output[\"out\"][\"2Mu2E_100GeV_5GeV_4mm\"][\"hists\"][\"genMu_pt_highRange\"][ch1,:].plot()\n",
    "output[\"out\"][\"2Mu2E_150GeV_5GeV_2p7mm\"][\"hists\"][\"genMu_pt_highRange\"][ch1,:].plot()\n",
    "output[\"out\"][\"2Mu2E_200GeV_5GeV_2mm\"][\"hists\"][\"genMu_pt_highRange\"][ch1,:].plot()\n",
    "output[\"out\"][\"2Mu2E_500GeV_5GeV_0p8mm\"][\"hists\"][\"genMu_pt_highRange\"][ch1,:].plot()\n",
    "output[\"out\"][\"2Mu2E_800GeV_5GeV_0p5mm\"][\"hists\"][\"genMu_pt_highRange\"][ch1,:].plot()\n",
    "output[\"out\"][\"2Mu2E_1000GeV_5GeV_0p4mm\"][\"hists\"][\"genMu_pt_highRange\"][ch1,:].plot()"
   ]
  },
  {
   "cell_type": "markdown",
   "id": "ba5d07c9-aac0-41bf-8393-4665e27cb404",
   "metadata": {},
   "source": [
    "## leading genMu"
   ]
  },
  {
   "cell_type": "code",
   "execution_count": null,
   "id": "495be67f-2387-4303-8f68-aee8b13f70f2",
   "metadata": {
    "tags": []
   },
   "outputs": [],
   "source": [
    "output[\"out\"][\"2Mu2E_100GeV_5GeV_4mm\"][\"hists\"][\"genMu0_pt_highRange\"][ch1,:].plot()\n",
    "output[\"out\"][\"2Mu2E_150GeV_5GeV_2p7mm\"][\"hists\"][\"genMu0_pt_highRange\"][ch1,:].plot()\n",
    "output[\"out\"][\"2Mu2E_200GeV_5GeV_2mm\"][\"hists\"][\"genMu0_pt_highRange\"][ch1,:].plot()\n",
    "output[\"out\"][\"2Mu2E_500GeV_5GeV_0p8mm\"][\"hists\"][\"genMu0_pt_highRange\"][ch1,:].plot()\n",
    "output[\"out\"][\"2Mu2E_800GeV_5GeV_0p5mm\"][\"hists\"][\"genMu0_pt_highRange\"][ch1,:].plot()\n",
    "output[\"out\"][\"2Mu2E_1000GeV_5GeV_0p4mm\"][\"hists\"][\"genMu0_pt_highRange\"][ch1,:].plot()\n",
    "# \"genMu0_pt_highRange\" (to zoom in on [0:200] range)\n",
    "plt.title(\"leading genMu pT distr\")\n",
    "\n",
    "plt.legend([\"2Mu2E_mXX-100_mA-5_ctau-4\", \"2Mu2E_mXX-150_mA-5_ctau-2p7\", \n",
    "            \"2Mu2E_mXX-200_mA-5_ctau-2\",\"2Mu2E_mXX-500_mA-5_ctau-0p8\",\n",
    "            \"2Mu2E_mXX-800_mA-5_ctau-0p5\",\"2Mu2E_mXX-1000_mA-5_ctau-0p4\"])"
   ]
  },
  {
   "cell_type": "markdown",
   "id": "38f6d859-e3e1-4290-b785-6010e33f3458",
   "metadata": {},
   "source": [
    "## subleading genMu:"
   ]
  },
  {
   "cell_type": "code",
   "execution_count": null,
   "id": "d9f2ac6a-0f5a-430f-a4d7-ccd034a3f4c8",
   "metadata": {
    "tags": []
   },
   "outputs": [],
   "source": [
    "output[\"out\"][\"2Mu2E_100GeV_5GeV_4mm\"][\"hists\"][\"genMu1_pt_highRange\"][ch1,:].plot()\n",
    "output[\"out\"][\"2Mu2E_150GeV_5GeV_2p7mm\"][\"hists\"][\"genMu1_pt_highRange\"][ch1,:].plot()\n",
    "output[\"out\"][\"2Mu2E_200GeV_5GeV_2mm\"][\"hists\"][\"genMu1_pt_highRange\"][ch1,:].plot()\n",
    "output[\"out\"][\"2Mu2E_500GeV_5GeV_0p8mm\"][\"hists\"][\"genMu1_pt_highRange\"][ch1,:].plot()\n",
    "output[\"out\"][\"2Mu2E_800GeV_5GeV_0p5mm\"][\"hists\"][\"genMu1_pt_highRange\"][ch1,:].plot()\n",
    "output[\"out\"][\"2Mu2E_1000GeV_5GeV_0p4mm\"][\"hists\"][\"genMu1_pt_highRange\"][ch1,:].plot()\n",
    "# \"genMu1_pt\" (to zoom in on [0:200] range)\n",
    "plt.title(\"subleading genMu pT distr\")\n",
    "\n",
    "plt.legend([\"2Mu2E_mXX-100_mA-5_ctau-4\", \"2Mu2E_mXX-150_mA-5_ctau-2p7\", \n",
    "            \"2Mu2E_mXX-200_mA-5_ctau-2\",\"2Mu2E_mXX-500_mA-5_ctau-0p8\",\n",
    "            \"2Mu2E_mXX-800_mA-5_ctau-0p5\",\"2Mu2E_mXX-1000_mA-5_ctau-0p4\"])"
   ]
  },
  {
   "cell_type": "markdown",
   "id": "131a3324-c37c-4fcf-bdc7-410351548d38",
   "metadata": {},
   "source": [
    "# (ptg - ptr) / ptg:"
   ]
  },
  {
   "cell_type": "code",
   "execution_count": null,
   "id": "a3889fcd-1ed1-45f3-9a32-9cb9db38e6ab",
   "metadata": {
    "tags": []
   },
   "outputs": [],
   "source": [
    "output[\"out\"][\"2Mu2E_100GeV_5GeV_4mm\"][\"hists\"][\"genMus_ljMus_ptdiff\"][ch1,:].plot()\n",
    "output[\"out\"][\"2Mu2E_150GeV_5GeV_2p7mm\"][\"hists\"][\"genMus_ljMus_ptdiff\"][ch1,:].plot()\n",
    "output[\"out\"][\"2Mu2E_200GeV_5GeV_2mm\"][\"hists\"][\"genMus_ljMus_ptdiff\"][ch1,:].plot()\n",
    "output[\"out\"][\"2Mu2E_500GeV_5GeV_0p8mm\"][\"hists\"][\"genMus_ljMus_ptdiff\"][ch1,:].plot()\n",
    "output[\"out\"][\"2Mu2E_800GeV_5GeV_0p5mm\"][\"hists\"][\"genMus_ljMus_ptdiff\"][ch1,:].plot()\n",
    "output[\"out\"][\"2Mu2E_1000GeV_5GeV_0p4mm\"][\"hists\"][\"genMus_ljMus_ptdiff\"][ch1,:].plot()\n",
    "\n",
    "# plt.legend([\"2Mu2E_mXX-100_mA-5_ctau-4\", \"2Mu2E_mXX-150_mA-5_ctau-2p7\", \n",
    "#             \"2Mu2E_mXX-200_mA-5_ctau-2\",\"2Mu2E_mXX-500_mA-5_ctau-0p8\",\n",
    "#             \"2Mu2E_mXX-800_mA-5_ctau-0p5\",\"2Mu2E_mXX-1000_mA-5_ctau-0p4\"])\n",
    "plt.title(\"(ptg - ptr) / ptg in the SIDM signal\")\n",
    "plt.ylabel(\"counts\")\n"
   ]
  },
  {
   "cell_type": "markdown",
   "id": "5b377638-6125-46a6-841f-f098590c0679",
   "metadata": {
    "tags": []
   },
   "source": [
    "This is (ptg - ptr) / ptg  , or 1 - ptRatio  (using every lepton-jet object)    \n",
    "\"1 - derived_objs[\"mu_ljs\"](objs).pt / derived_objs[\"mu_ljs\"](objs).nearest(objs[\"genMus\"]).pt\""
   ]
  },
  {
   "cell_type": "markdown",
   "id": "a050cdf6-1948-4ceb-a4b1-fcfad9219263",
   "metadata": {},
   "source": [
    "# Reco pT distributions:"
   ]
  },
  {
   "cell_type": "markdown",
   "id": "0ecf67e9-f478-4511-a4cb-032731c5f841",
   "metadata": {},
   "source": [
    "## All reco mus"
   ]
  },
  {
   "cell_type": "code",
   "execution_count": null,
   "id": "f8364782-3b94-4e2f-b7b4-00823f7deacc",
   "metadata": {
    "tags": []
   },
   "outputs": [],
   "source": [
    "sample = samples[0]\n",
    "\n",
    "output[\"out\"][\"2Mu2E_100GeV_5GeV_4mm\"][\"hists\"][\"dsaMuon_pt\"][ch1,:].plot()\n",
    "output[\"out\"][\"2Mu2E_150GeV_5GeV_2p7mm\"][\"hists\"][\"dsaMuon_pt\"][ch1,:].plot()\n",
    "output[\"out\"][\"2Mu2E_200GeV_5GeV_2mm\"][\"hists\"][\"dsaMuon_pt\"][ch1,:].plot()\n",
    "output[\"out\"][\"2Mu2E_500GeV_5GeV_0p8mm\"][\"hists\"][\"dsaMuon_pt\"][ch1,:].plot()\n",
    "output[\"out\"][\"2Mu2E_800GeV_5GeV_0p5mm\"][\"hists\"][\"dsaMuon_pt\"][ch1,:].plot()\n",
    "output[\"out\"][\"2Mu2E_1000GeV_5GeV_0p4mm\"][\"hists\"][\"dsaMuon_pt\"][ch1,:].plot()\n",
    "\n",
    "plt.legend([\"2Mu2E_mXX-100_mA-5_ctau-4\", \"2Mu2E_mXX-150_mA-5_ctau-2p7\", \n",
    "            \"2Mu2E_mXX-200_mA-5_ctau-2\",\"2Mu2E_mXX-500_mA-5_ctau-0p8\",\n",
    "            \"2Mu2E_mXX-800_mA-5_ctau-0p5\",\"2Mu2E_mXX-1000_mA-5_ctau-0p4\"])"
   ]
  },
  {
   "cell_type": "code",
   "execution_count": null,
   "id": "6ed6f34a-c2dd-4ae7-b6e0-b46c9100b226",
   "metadata": {
    "tags": []
   },
   "outputs": [],
   "source": [
    "output[\"out\"][\"2Mu2E_100GeV_5GeV_4mm\"][\"hists\"][\"muon_pt\"][ch1,:].plot()\n",
    "output[\"out\"][\"2Mu2E_150GeV_5GeV_2p7mm\"][\"hists\"][\"muon_pt\"][ch1,:].plot()\n",
    "output[\"out\"][\"2Mu2E_200GeV_5GeV_2mm\"][\"hists\"][\"muon_pt\"][ch1,:].plot()\n",
    "output[\"out\"][\"2Mu2E_500GeV_5GeV_0p8mm\"][\"hists\"][\"muon_pt\"][ch1,:].plot()\n",
    "output[\"out\"][\"2Mu2E_800GeV_5GeV_0p5mm\"][\"hists\"][\"muon_pt\"][ch1,:].plot()\n",
    "output[\"out\"][\"2Mu2E_1000GeV_5GeV_0p4mm\"][\"hists\"][\"muon_pt\"][ch1,:].plot()\n",
    "\n",
    "plt.legend([\"2Mu2E_mXX-100_mA-5_ctau-4\", \"2Mu2E_mXX-150_mA-5_ctau-2p7\", \n",
    "            \"2Mu2E_mXX-200_mA-5_ctau-2\",\"2Mu2E_mXX-500_mA-5_ctau-0p8\",\n",
    "            \"2Mu2E_mXX-800_mA-5_ctau-0p5\",\"2Mu2E_mXX-1000_mA-5_ctau-0p4\"])"
   ]
  },
  {
   "cell_type": "markdown",
   "id": "d507a47e-adc3-4264-8a5d-e8980d62352a",
   "metadata": {},
   "source": [
    "# gen-matching efficiency\n",
    "\n",
    "# $\\epsilon = \\frac{\\text{Events with both gen muons matched to reco muons}}{\\text{Total events with 2 gen muons}}$\n",
    "<br>\n",
    "\n",
    "## I'm using the pt of the dark photon for num and den"
   ]
  },
  {
   "cell_type": "code",
   "execution_count": null,
   "id": "b8c4eaca-f4e9-4556-98ed-d5b60b8a8204",
   "metadata": {
    "tags": []
   },
   "outputs": [],
   "source": [
    "#ch1 = 2mu2e\n",
    "#ch2 = 2mu2e_matchedLj\n",
    "sample = samples[0]\n",
    "\n",
    "output[\"out\"][sample][\"hists\"][\"genA_toMu_matched_muLj_pt\"][ch2,:200j].plot_ratio(\n",
    "       output[\"out\"][sample][\"hists\"][\"genA_pt\"][ch1,:200j], \n",
    "       rp_uncert_draw_type=\"line\",\n",
    "       rp_uncertainty_type=\"efficiency\")\n",
    "\n",
    "plt.title(sample)"
   ]
  }
 ],
 "metadata": {
  "kernelspec": {
   "display_name": "Python 3 (ipykernel)",
   "language": "python",
   "name": "python3"
  },
  "language_info": {
   "codemirror_mode": {
    "name": "ipython",
    "version": 3
   },
   "file_extension": ".py",
   "mimetype": "text/x-python",
   "name": "python",
   "nbconvert_exporter": "python",
   "pygments_lexer": "ipython3",
   "version": "3.8.16"
  }
 },
 "nbformat": 4,
 "nbformat_minor": 5
}
