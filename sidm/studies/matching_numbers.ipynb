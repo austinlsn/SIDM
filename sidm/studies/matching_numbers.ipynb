{
 "cells": [
  {
   "cell_type": "markdown",
   "id": "e2be3852-436b-48d3-a75b-bbb3f93a9401",
   "metadata": {},
   "source": [
    "I'll use this notebook to study potential LJ constituents and look into whether I can unambiguously pick out the relevant particles with dR requirements. This study should be updated to instead use pfjet.pfcand and compare directly with ljsources."
   ]
  },
  {
   "cell_type": "code",
   "execution_count": 1,
   "id": "a4704a70-8917-469b-a02c-5ff2d0639417",
   "metadata": {
    "tags": []
   },
   "outputs": [],
   "source": [
    "# python\n",
    "import sys\n",
    "import os\n",
    "import importlib\n",
    "# columnar analysis\n",
    "from coffea import processor\n",
    "import awkward as ak\n",
    "from dask.distributed import Client\n",
    "# locala\n",
    "sys.path.insert(1, os.path.join(sys.path[0], '../..')) # fixme: there must be a better way to handle this...\n",
    "from sidm.tools import ffschema, sidm_processor, utilities\n",
    "# always reload local modules to pick up changes during development\n",
    "importlib.reload(ffschema)\n",
    "importlib.reload(sidm_processor)\n",
    "importlib.reload(utilities)\n",
    "# plotting\n",
    "import matplotlib.pyplot as plt\n",
    "utilities.set_plot_style()"
   ]
  },
  {
   "cell_type": "code",
   "execution_count": 2,
   "id": "8b73a1ba-c7cc-48dd-acc2-5f73a0e3b19d",
   "metadata": {},
   "outputs": [],
   "source": [
    "# samples = [\n",
    "#     \"2Mu2E_100GeV_5GeV_400mm\",\n",
    "#     \"2Mu2E_100GeV_5GeV_200mm\",\n",
    "#     \"2Mu2E_100GeV_5GeV_40mm\",\n",
    "#     \"2Mu2E_100GeV_5GeV_4mm\",\n",
    "#     \"2Mu2E_100GeV_5GeV_0p4mm\",\n",
    "# ]\n",
    "\n",
    "samples = [\n",
    "    \"2Mu2E_800GeV_1p2GeV_1p2mm\",\n",
    "    \"2Mu2E_800GeV_0p25GeV_1p2mm\",\n",
    "]\n",
    "\n",
    "# samples = [\n",
    "#     \"2Mu2E_1000GeV_5GeV_40mm\",\n",
    "#     \"2Mu2E_500GeV_5GeV_40mm\",\n",
    "#     \"2Mu2E_100GeV_5GeV_40mm\",\n",
    "# ]\n",
    "\n",
    "# samples = [\n",
    "#     \"2Mu2E_100GeV_5GeV_4mm\",\n",
    "#     \"2Mu2E_150GeV_5GeV_2p7mm\",\n",
    "#     \"2Mu2E_200GeV_5GeV_2mm\",\n",
    "#     \"2Mu2E_500GeV_5GeV_0p8mm\",\n",
    "#     \"2Mu2E_800GeV_5GeV_0p5mm\",\n",
    "#     \"2Mu2E_1000GeV_5GeV_0p4mm\",\n",
    "# ]\n",
    "fileset = utilities.make_fileset(samples, \"ffntuple_v4\")"
   ]
  },
  {
   "cell_type": "code",
   "execution_count": 3,
   "id": "98566459-ef05-47bc-a5cd-3b94c670c5ce",
   "metadata": {},
   "outputs": [
    {
     "data": {
      "application/vnd.jupyter.widget-view+json": {
       "model_id": "fca9f4a17b5442c493412a85e2924d82",
       "version_major": 2,
       "version_minor": 0
      },
      "text/plain": [
       "Output()"
      ]
     },
     "metadata": {},
     "output_type": "display_data"
    },
    {
     "data": {
      "text/html": [
       "<pre style=\"white-space:pre;overflow-x:auto;line-height:normal;font-family:Menlo,'DejaVu Sans Mono',consolas,'Courier New',monospace\"></pre>\n"
      ],
      "text/plain": []
     },
     "metadata": {},
     "output_type": "display_data"
    },
    {
     "data": {
      "text/html": [
       "<pre style=\"white-space:pre;overflow-x:auto;line-height:normal;font-family:Menlo,'DejaVu Sans Mono',consolas,'Courier New',monospace\">\n",
       "</pre>\n"
      ],
      "text/plain": [
       "\n"
      ]
     },
     "metadata": {},
     "output_type": "display_data"
    },
    {
     "data": {
      "application/vnd.jupyter.widget-view+json": {
       "model_id": "d51d0cd06c9a4c62884030d1d7368fea",
       "version_major": 2,
       "version_minor": 0
      },
      "text/plain": [
       "Output()"
      ]
     },
     "metadata": {},
     "output_type": "display_data"
    },
    {
     "name": "stderr",
     "output_type": "stream",
     "text": [
      "/opt/conda/lib/python3.9/site-packages/awkward/_connect/_numpy.py:195: RuntimeWarning: invalid value encountered in sqrt\n",
      "  result = getattr(ufunc, method)(\n"
     ]
    },
    {
     "data": {
      "text/html": [
       "<pre style=\"white-space:pre;overflow-x:auto;line-height:normal;font-family:Menlo,'DejaVu Sans Mono',consolas,'Courier New',monospace\"></pre>\n"
      ],
      "text/plain": []
     },
     "metadata": {},
     "output_type": "display_data"
    },
    {
     "data": {
      "text/html": [
       "<pre style=\"white-space:pre;overflow-x:auto;line-height:normal;font-family:Menlo,'DejaVu Sans Mono',consolas,'Courier New',monospace\">\n",
       "</pre>\n"
      ],
      "text/plain": [
       "\n"
      ]
     },
     "metadata": {},
     "output_type": "display_data"
    }
   ],
   "source": [
    "runner = processor.Runner(\n",
    "    #executor=processor.IterativeExecutor(),\n",
    "    executor=processor.FuturesExecutor(),\n",
    "    schema=ffschema.FFSchema,\n",
    ")\n",
    "\n",
    "p = sidm_processor.SidmProcessor(\n",
    "    [\n",
    "        \"2mu2e\",\n",
    "        \"2mu2e_matchedLj\",\n",
    "    ],\n",
    "    [\"base_plus_gen\"]\n",
    ")\n",
    "\n",
    "output = runner.run(fileset, treename=\"ffNtuplizer/ffNtuple\", processor_instance=p)\n",
    "#hists = output[\"out\"][samples[0]][\"hists\"]\n",
    "\n",
    "ch1 = \"2mu2e\"\n",
    "ch2 = \"2mu2e_matchedLj\""
   ]
  },
  {
   "cell_type": "code",
   "execution_count": 4,
   "id": "839c0047-48d8-4c06-a3c7-977d4f1365d3",
   "metadata": {},
   "outputs": [
    {
     "ename": "KeyError",
     "evalue": "'matched_muon_n'",
     "output_type": "error",
     "traceback": [
      "\u001b[0;31m---------------------------------------------------------------------------\u001b[0m",
      "\u001b[0;31mKeyError\u001b[0m                                  Traceback (most recent call last)",
      "Cell \u001b[0;32mIn[4], line 7\u001b[0m\n\u001b[1;32m      5\u001b[0m plt\u001b[38;5;241m.\u001b[39msubplot(\u001b[38;5;241m2\u001b[39m,\u001b[38;5;241m1\u001b[39m,\u001b[38;5;241m1\u001b[39m) \u001b[38;5;66;03m# rows, columns, which subplot\u001b[39;00m\n\u001b[1;32m      6\u001b[0m \u001b[38;5;28;01mfor\u001b[39;00m S \u001b[38;5;129;01min\u001b[39;00m samples:  \n\u001b[0;32m----> 7\u001b[0m     \u001b[43moutput\u001b[49m\u001b[43m[\u001b[49m\u001b[38;5;124;43m\"\u001b[39;49m\u001b[38;5;124;43mout\u001b[39;49m\u001b[38;5;124;43m\"\u001b[39;49m\u001b[43m]\u001b[49m\u001b[43m[\u001b[49m\u001b[43mS\u001b[49m\u001b[43m]\u001b[49m\u001b[43m[\u001b[49m\u001b[38;5;124;43m\"\u001b[39;49m\u001b[38;5;124;43mhists\u001b[39;49m\u001b[38;5;124;43m\"\u001b[39;49m\u001b[43m]\u001b[49m\u001b[43m[\u001b[49m\u001b[38;5;124;43m\"\u001b[39;49m\u001b[38;5;124;43mmatched_muon_n\u001b[39;49m\u001b[38;5;124;43m\"\u001b[39;49m\u001b[43m]\u001b[49m[ch1,:]\u001b[38;5;241m.\u001b[39mplot(density\u001b[38;5;241m=\u001b[39m\u001b[38;5;28;01mFalse\u001b[39;00m, flow\u001b[38;5;241m=\u001b[39m\u001b[38;5;124m'\u001b[39m\u001b[38;5;124mnone\u001b[39m\u001b[38;5;124m'\u001b[39m)\n\u001b[1;32m      8\u001b[0m plt\u001b[38;5;241m.\u001b[39mtitle(\u001b[38;5;124m\"\u001b[39m\u001b[38;5;124mnumber of matched muons\u001b[39m\u001b[38;5;124m\"\u001b[39m)\n\u001b[1;32m      9\u001b[0m plt\u001b[38;5;241m.\u001b[39mlegend(legend_entries, alignment\u001b[38;5;241m=\u001b[39m\u001b[38;5;124m\"\u001b[39m\u001b[38;5;124mleft\u001b[39m\u001b[38;5;124m\"\u001b[39m)\n",
      "\u001b[0;31mKeyError\u001b[0m: 'matched_muon_n'"
     ]
    },
    {
     "data": {
      "image/png": "[encoded data removed]",
      "text/plain": [
       "<Figure size 500x500 with 1 Axes>"
      ]
     },
     "metadata": {},
     "output_type": "display_data"
    }
   ],
   "source": [
    "legend_entries = [s[13:] for s in samples]\n",
    "nplots = 2\n",
    "\n",
    "# LJs:\n",
    "plt.subplot(2,1,1) # rows, columns, which subplot\n",
    "for S in samples:  \n",
    "    output[\"out\"][S][\"hists\"][\"matched_muon_n\"][ch1,:].plot(density=False, flow='none')\n",
    "plt.title(\"number of matched muons\")\n",
    "plt.legend(legend_entries, alignment=\"left\")\n",
    "#-----\n",
    "\n",
    "# Muons:\n",
    "plt.subplots(1, nplots, figsize=(nplots*12, 10))\n",
    "plt.subplot(1,nplots,1) # rows, columns, which subplot\n",
    "for S in samples:  # genAs_toMu_matched_lj\n",
    "    output[\"out\"][S][\"hists\"][\"genAs_toMu_invmass\"][ch1,:].plot(density=False, flow='none')\n",
    "plt.title(\"invariant mass of muons from genAs\")\n",
    "plt.legend(samples)\n",
    "\n",
    "plt.subplot(1,nplots,2)\n",
    "for S in samples: # mu_mu_invmass_lowRange\n",
    "    output[\"out\"][S][\"hists\"][\"muons_matched_muLj_invmass\"][ch1,:].plot(density=False, flow='none')\n",
    "plt.title(\"invariant mass of matched reco muons\")\n",
    "plt.legend(samples)\n",
    "#-----\n",
    "\n",
    "# Electrons:\n",
    "plt.subplots(1, nplots, figsize=(nplots*12, 10))\n",
    "plt.subplot(1,nplots,1)\n",
    "for S in samples: # genAs_toE_matched_lj\n",
    "    output[\"out\"][S][\"hists\"][\"genAs_toE_invmass\"][ch1,:].plot(density=False, flow='none')\n",
    "plt.title(\"invariant mass of electrons from genAs\")\n",
    "plt.legend(samples)\n",
    "\n",
    "plt.subplot(1,nplots,2)\n",
    "for S in samples: # egm_egm_invmass_lowRange | electron_invmass\n",
    "    output[\"out\"][S][\"hists\"][\"electrons_matched_egmLj_invmass\"][ch1,:].plot(density=False, flow='none')\n",
    "plt.title(\"invariant mass of matched reco electrons\")\n",
    "plt.legend(samples)"
   ]
  }
 ],
 "metadata": {
  "kernelspec": {
   "display_name": "Python 3 (ipykernel)",
   "language": "python",
   "name": "python3"
  },
  "language_info": {
   "codemirror_mode": {
    "name": "ipython",
    "version": 3
   },
   "file_extension": ".py",
   "mimetype": "text/x-python",
   "name": "python",
   "nbconvert_exporter": "python",
   "pygments_lexer": "ipython3",
   "version": "3.10.12"
  }
 },
 "nbformat": 4,
 "nbformat_minor": 5
}
