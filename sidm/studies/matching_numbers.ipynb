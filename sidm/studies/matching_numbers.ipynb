{
 "cells": [
  {
   "cell_type": "markdown",
   "id": "e2be3852-436b-48d3-a75b-bbb3f93a9401",
   "metadata": {},
   "source": [
    "I'll use this notebook to study potential LJ constituents and look into whether I can unambiguously pick out the relevant particles with dR requirements. This study should be updated to instead use pfjet.pfcand and compare directly with ljsources."
   ]
  },
  {
   "cell_type": "code",
   "execution_count": 4,
   "id": "a4704a70-8917-469b-a02c-5ff2d0639417",
   "metadata": {
    "tags": []
   },
   "outputs": [],
   "source": [
    "# python\n",
    "import sys\n",
    "import os\n",
    "import importlib\n",
    "# columnar analysis\n",
    "sys.path.append(os.path.join(\"~\", \"cms-jovyan\")) # point to local coffea code\n",
    "from coffea import processor\n",
    "\n",
    "sys.path.append(os.path.join(os.getcwd()))\n",
    "import awkward as ak\n",
    "from dask.distributed import Client\n",
    "# locala\n",
    "sys.path.insert(1, os.path.join( os.getcwd(), '../..')) # fixme: there must be a better way to handle this... previously: 'sys.path[0]'\n",
    "from sidm.tools import ffschema, sidm_processor, utilities\n",
    "# always reload local modules to pick up changes during development\n",
    "importlib.reload(ffschema)\n",
    "importlib.reload(sidm_processor)\n",
    "importlib.reload(utilities)\n",
    "# plotting\n",
    "import matplotlib.pyplot as plt\n",
    "utilities.set_plot_style()"
   ]
  },
  {
   "cell_type": "code",
   "execution_count": 5,
   "id": "8b73a1ba-c7cc-48dd-acc2-5f73a0e3b19d",
   "metadata": {},
   "outputs": [],
   "source": [
    "# samples = [\n",
    "#     \"2Mu2E_100GeV_5GeV_400mm\",\n",
    "#     \"2Mu2E_100GeV_5GeV_200mm\",\n",
    "#     \"2Mu2E_100GeV_5GeV_40mm\",\n",
    "#     \"2Mu2E_100GeV_5GeV_4mm\",\n",
    "#     \"2Mu2E_100GeV_5GeV_0p4mm\",\n",
    "# ]\n",
    "\n",
    "samples = [\n",
    "    \"2Mu2E_800GeV_1p2GeV_1p2mm\",\n",
    "    \"2Mu2E_800GeV_0p25GeV_1p2mm\",\n",
    "]\n",
    "\n",
    "# samples = [\n",
    "#     \"2Mu2E_1000GeV_5GeV_40mm\",\n",
    "#     \"2Mu2E_500GeV_5GeV_40mm\",\n",
    "#     \"2Mu2E_100GeV_5GeV_40mm\",\n",
    "# ]\n",
    "\n",
    "# samples = [\n",
    "#     \"2Mu2E_100GeV_5GeV_4mm\",\n",
    "#     \"2Mu2E_150GeV_5GeV_2p7mm\",\n",
    "#     \"2Mu2E_200GeV_5GeV_2mm\",\n",
    "#     \"2Mu2E_500GeV_5GeV_0p8mm\",\n",
    "#     \"2Mu2E_800GeV_5GeV_0p5mm\",\n",
    "#     \"2Mu2E_1000GeV_5GeV_0p4mm\",\n",
    "# ]\n",
    "fileset = utilities.make_fileset(samples, \"ffntuple_v4\")"
   ]
  },
  {
   "cell_type": "code",
   "execution_count": 6,
   "id": "98566459-ef05-47bc-a5cd-3b94c670c5ce",
   "metadata": {},
   "outputs": [
    {
     "data": {
      "application/vnd.jupyter.widget-view+json": {
       "model_id": "cd165c3dfeec4b2c9b8296d65d410744",
       "version_major": 2,
       "version_minor": 0
      },
      "text/plain": [
       "Output()"
      ]
     },
     "metadata": {},
     "output_type": "display_data"
    },
    {
     "data": {
      "text/html": [
       "<pre style=\"white-space:pre;overflow-x:auto;line-height:normal;font-family:Menlo,'DejaVu Sans Mono',consolas,'Courier New',monospace\"></pre>\n"
      ],
      "text/plain": []
     },
     "metadata": {},
     "output_type": "display_data"
    },
    {
     "data": {
      "text/html": [
       "<pre style=\"white-space:pre;overflow-x:auto;line-height:normal;font-family:Menlo,'DejaVu Sans Mono',consolas,'Courier New',monospace\">\n",
       "</pre>\n"
      ],
      "text/plain": [
       "\n"
      ]
     },
     "metadata": {},
     "output_type": "display_data"
    },
    {
     "name": "stderr",
     "output_type": "stream",
     "text": [
      "concurrent.futures.process._RemoteTraceback: \n",
      "\"\"\"\n",
      "Traceback (most recent call last):\n",
      "  File \"/opt/conda/lib/python3.9/concurrent/futures/process.py\", line 246, in _process_worker\n",
      "    r = call_item.fn(*call_item.args, **call_item.kwargs)\n",
      "  File \"/opt/conda/lib/python3.9/site-packages/coffea/processor/executor.py\", line 1367, in automatic_retries\n",
      "    raise e\n",
      "  File \"/opt/conda/lib/python3.9/site-packages/coffea/processor/executor.py\", line 1336, in automatic_retries\n",
      "    return func(*args, **kwargs)\n",
      "  File \"/opt/conda/lib/python3.9/site-packages/coffea/processor/executor.py\", line 1417, in metadata_fetcher\n",
      "    with uproot.open({item.filename: None}, timeout=xrootdtimeout) as file:\n",
      "  File \"/opt/conda/lib/python3.9/site-packages/uproot/reading.py\", line 141, in open\n",
      "    file = ReadOnlyFile(\n",
      "  File \"/opt/conda/lib/python3.9/site-packages/uproot/reading.py\", line 580, in __init__\n",
      "    self._source = Source(\n",
      "  File \"/opt/conda/lib/python3.9/site-packages/uproot/source/xrootd.py\", line 272, in __init__\n",
      "    self._open()\n",
      "  File \"/opt/conda/lib/python3.9/site-packages/uproot/source/xrootd.py\", line 275, in _open\n",
      "    self._resource = XRootDResource(self._file_path, self._timeout)\n",
      "  File \"/opt/conda/lib/python3.9/site-packages/uproot/source/xrootd.py\", line 83, in __init__\n",
      "    self._open()\n",
      "  File \"/opt/conda/lib/python3.9/site-packages/uproot/source/xrootd.py\", line 92, in _open\n",
      "    self._xrd_error(status)\n",
      "  File \"/opt/conda/lib/python3.9/site-packages/uproot/source/xrootd.py\", line 118, in _xrd_error\n",
      "    raise OSError(\n",
      "OSError: XRootD error: [FATAL] Auth failed: No protocols left to try\n",
      "in file root://xcache//store/group/lpcmetx/SIDM/ffNtupleV4/2018/SIDM_XXTo2ATo2Mu2E_mXX-800_mA-0p25_ctau-1p2_TuneCP5_13TeV-madgraph-pythia8/RunIIAutumn18DRPremix-102X_upgrade2018_realistic_v15-v1/210326_161534/0000/ffNtuple_3.root\n",
      "\"\"\"\n",
      "\n",
      "The above exception was the direct cause of the following exception:\n",
      "\n",
      "Traceback (most recent call last):\n",
      "  File \"/opt/conda/lib/python3.9/site-packages/coffea/processor/executor.py\", line 786, in _processwith\n",
      "    merged = _watcher(FH, self, reducer, pool)\n",
      "  File \"/opt/conda/lib/python3.9/site-packages/coffea/processor/executor.py\", line 402, in _watcher\n",
      "    batch = FH.fetch(len(FH.completed))\n",
      "  File \"/opt/conda/lib/python3.9/site-packages/coffea/processor/executor.py\", line 286, in fetch\n",
      "    raise bad_futures[0].exception()\n",
      "OSError: XRootD error: [FATAL] Auth failed: No protocols left to try\n",
      "in file root://xcache//store/group/lpcmetx/SIDM/ffNtupleV4/2018/SIDM_XXTo2ATo2Mu2E_mXX-800_mA-0p25_ctau-1p2_TuneCP5_13TeV-madgraph-pythia8/RunIIAutumn18DRPremix-102X_upgrade2018_realistic_v15-v1/210326_161534/0000/ffNtuple_3.root\n"
     ]
    },
    {
     "ename": "OSError",
     "evalue": "XRootD error: [FATAL] Auth failed: No protocols left to try\nin file root://xcache//store/group/lpcmetx/SIDM/ffNtupleV4/2018/SIDM_XXTo2ATo2Mu2E_mXX-800_mA-0p25_ctau-1p2_TuneCP5_13TeV-madgraph-pythia8/RunIIAutumn18DRPremix-102X_upgrade2018_realistic_v15-v1/210326_161534/0000/ffNtuple_3.root",
     "output_type": "error",
     "traceback": [
      "\u001b[0;31m---------------------------------------------------------------------------\u001b[0m",
      "\u001b[0;31mOSError\u001b[0m                                   Traceback (most recent call last)",
      "Cell \u001b[0;32mIn[6], line 15\u001b[0m\n\u001b[1;32m      1\u001b[0m runner \u001b[38;5;241m=\u001b[39m processor\u001b[38;5;241m.\u001b[39mRunner(\n\u001b[1;32m      2\u001b[0m     \u001b[38;5;66;03m#executor=processor.IterativeExecutor(),\u001b[39;00m\n\u001b[1;32m      3\u001b[0m     executor\u001b[38;5;241m=\u001b[39mprocessor\u001b[38;5;241m.\u001b[39mFuturesExecutor(),\n\u001b[1;32m      4\u001b[0m     schema\u001b[38;5;241m=\u001b[39mffschema\u001b[38;5;241m.\u001b[39mFFSchema,\n\u001b[1;32m      5\u001b[0m )\n\u001b[1;32m      7\u001b[0m p \u001b[38;5;241m=\u001b[39m sidm_processor\u001b[38;5;241m.\u001b[39mSidmProcessor(\n\u001b[1;32m      8\u001b[0m     [\n\u001b[1;32m      9\u001b[0m         \u001b[38;5;124m\"\u001b[39m\u001b[38;5;124m2mu2e\u001b[39m\u001b[38;5;124m\"\u001b[39m,\n\u001b[0;32m   (...)\u001b[0m\n\u001b[1;32m     12\u001b[0m     [\u001b[38;5;124m\"\u001b[39m\u001b[38;5;124mbase_plus_gen\u001b[39m\u001b[38;5;124m\"\u001b[39m]\n\u001b[1;32m     13\u001b[0m )\n\u001b[0;32m---> 15\u001b[0m output \u001b[38;5;241m=\u001b[39m \u001b[43mrunner\u001b[49m\u001b[38;5;241;43m.\u001b[39;49m\u001b[43mrun\u001b[49m\u001b[43m(\u001b[49m\u001b[43mfileset\u001b[49m\u001b[43m,\u001b[49m\u001b[43m \u001b[49m\u001b[43mtreename\u001b[49m\u001b[38;5;241;43m=\u001b[39;49m\u001b[38;5;124;43m\"\u001b[39;49m\u001b[38;5;124;43mffNtuplizer/ffNtuple\u001b[39;49m\u001b[38;5;124;43m\"\u001b[39;49m\u001b[43m,\u001b[49m\u001b[43m \u001b[49m\u001b[43mprocessor_instance\u001b[49m\u001b[38;5;241;43m=\u001b[39;49m\u001b[43mp\u001b[49m\u001b[43m)\u001b[49m\n\u001b[1;32m     16\u001b[0m \u001b[38;5;66;03m#hists = output[\"out\"][samples[0]][\"hists\"]\u001b[39;00m\n\u001b[1;32m     18\u001b[0m ch1 \u001b[38;5;241m=\u001b[39m \u001b[38;5;124m\"\u001b[39m\u001b[38;5;124m2mu2e\u001b[39m\u001b[38;5;124m\"\u001b[39m\n",
      "File \u001b[0;32m/opt/conda/lib/python3.9/site-packages/coffea/processor/executor.py:1782\u001b[0m, in \u001b[0;36mRunner.run\u001b[0;34m(self, fileset, processor_instance, treename)\u001b[0m\n\u001b[1;32m   1780\u001b[0m     chunks \u001b[38;5;241m=\u001b[39m fileset\n\u001b[1;32m   1781\u001b[0m \u001b[38;5;28;01melse\u001b[39;00m:\n\u001b[0;32m-> 1782\u001b[0m     chunks \u001b[38;5;241m=\u001b[39m \u001b[38;5;28;43mself\u001b[39;49m\u001b[38;5;241;43m.\u001b[39;49m\u001b[43mpreprocess\u001b[49m\u001b[43m(\u001b[49m\u001b[43mfileset\u001b[49m\u001b[43m,\u001b[49m\u001b[43m \u001b[49m\u001b[43mtreename\u001b[49m\u001b[43m)\u001b[49m\n\u001b[1;32m   1784\u001b[0m \u001b[38;5;28;01mif\u001b[39;00m \u001b[38;5;28mself\u001b[39m\u001b[38;5;241m.\u001b[39mprocessor_compression \u001b[38;5;129;01mis\u001b[39;00m \u001b[38;5;28;01mNone\u001b[39;00m:\n\u001b[1;32m   1785\u001b[0m     pi_to_send \u001b[38;5;241m=\u001b[39m processor_instance\n",
      "File \u001b[0;32m/opt/conda/lib/python3.9/site-packages/coffea/processor/executor.py:1734\u001b[0m, in \u001b[0;36mRunner.preprocess\u001b[0;34m(self, fileset, treename)\u001b[0m\n\u001b[1;32m   1731\u001b[0m \u001b[38;5;28;01mfor\u001b[39;00m filemeta \u001b[38;5;129;01min\u001b[39;00m fileset:\n\u001b[1;32m   1732\u001b[0m     filemeta\u001b[38;5;241m.\u001b[39mmaybe_populate(\u001b[38;5;28mself\u001b[39m\u001b[38;5;241m.\u001b[39mmetadata_cache)\n\u001b[0;32m-> 1734\u001b[0m \u001b[38;5;28;43mself\u001b[39;49m\u001b[38;5;241;43m.\u001b[39;49m\u001b[43m_preprocess_fileset\u001b[49m\u001b[43m(\u001b[49m\u001b[43mfileset\u001b[49m\u001b[43m)\u001b[49m\n\u001b[1;32m   1735\u001b[0m fileset \u001b[38;5;241m=\u001b[39m \u001b[38;5;28mself\u001b[39m\u001b[38;5;241m.\u001b[39m_filter_badfiles(fileset)\n\u001b[1;32m   1737\u001b[0m \u001b[38;5;66;03m# reverse fileset list to match the order of files as presented in version\u001b[39;00m\n\u001b[1;32m   1738\u001b[0m \u001b[38;5;66;03m# v0.7.4. This fixes tests using maxchunks.\u001b[39;00m\n",
      "File \u001b[0;32m/opt/conda/lib/python3.9/site-packages/coffea/processor/executor.py:1461\u001b[0m, in \u001b[0;36mRunner._preprocess_fileset\u001b[0;34m(self, fileset)\u001b[0m\n\u001b[1;32m   1454\u001b[0m pre_executor \u001b[38;5;241m=\u001b[39m \u001b[38;5;28mself\u001b[39m\u001b[38;5;241m.\u001b[39mpre_executor\u001b[38;5;241m.\u001b[39mcopy(\u001b[38;5;241m*\u001b[39m\u001b[38;5;241m*\u001b[39mpre_arg_override)\n\u001b[1;32m   1455\u001b[0m closure \u001b[38;5;241m=\u001b[39m partial(\n\u001b[1;32m   1456\u001b[0m     \u001b[38;5;28mself\u001b[39m\u001b[38;5;241m.\u001b[39mautomatic_retries,\n\u001b[1;32m   1457\u001b[0m     \u001b[38;5;28mself\u001b[39m\u001b[38;5;241m.\u001b[39mretries,\n\u001b[1;32m   1458\u001b[0m     \u001b[38;5;28mself\u001b[39m\u001b[38;5;241m.\u001b[39mskipbadfiles,\n\u001b[1;32m   1459\u001b[0m     partial(\u001b[38;5;28mself\u001b[39m\u001b[38;5;241m.\u001b[39mmetadata_fetcher, \u001b[38;5;28mself\u001b[39m\u001b[38;5;241m.\u001b[39mxrootdtimeout, \u001b[38;5;28mself\u001b[39m\u001b[38;5;241m.\u001b[39malign_clusters),\n\u001b[1;32m   1460\u001b[0m )\n\u001b[0;32m-> 1461\u001b[0m out, _ \u001b[38;5;241m=\u001b[39m \u001b[43mpre_executor\u001b[49m\u001b[43m(\u001b[49m\u001b[43mto_get\u001b[49m\u001b[43m,\u001b[49m\u001b[43m \u001b[49m\u001b[43mclosure\u001b[49m\u001b[43m,\u001b[49m\u001b[43m \u001b[49m\u001b[43mout\u001b[49m\u001b[43m)\u001b[49m\n\u001b[1;32m   1462\u001b[0m \u001b[38;5;28;01mwhile\u001b[39;00m out:\n\u001b[1;32m   1463\u001b[0m     item \u001b[38;5;241m=\u001b[39m out\u001b[38;5;241m.\u001b[39mpop()\n",
      "File \u001b[0;32m/opt/conda/lib/python3.9/site-packages/coffea/processor/executor.py:817\u001b[0m, in \u001b[0;36mFuturesExecutor.__call__\u001b[0;34m(self, items, function, accumulator)\u001b[0m\n\u001b[1;32m    815\u001b[0m \u001b[38;5;28;01melse\u001b[39;00m:\n\u001b[1;32m    816\u001b[0m     mergepoolinstance \u001b[38;5;241m=\u001b[39m \u001b[38;5;28;01mNone\u001b[39;00m\n\u001b[0;32m--> 817\u001b[0m \u001b[38;5;28;01mreturn\u001b[39;00m \u001b[43m_processwith\u001b[49m\u001b[43m(\u001b[49m\u001b[43mpool\u001b[49m\u001b[38;5;241;43m=\u001b[39;49m\u001b[43mpoolinstance\u001b[49m\u001b[43m,\u001b[49m\u001b[43m \u001b[49m\u001b[43mmergepool\u001b[49m\u001b[38;5;241;43m=\u001b[39;49m\u001b[43mmergepoolinstance\u001b[49m\u001b[43m)\u001b[49m\n",
      "File \u001b[0;32m/opt/conda/lib/python3.9/site-packages/coffea/processor/executor.py:801\u001b[0m, in \u001b[0;36mFuturesExecutor.__call__.<locals>._processwith\u001b[0;34m(pool, mergepool)\u001b[0m\n\u001b[1;32m    799\u001b[0m     \u001b[38;5;28;01mreturn\u001b[39;00m accumulate([_decompress(merged), accumulator]), e\n\u001b[1;32m    800\u001b[0m \u001b[38;5;28;01melse\u001b[39;00m:\n\u001b[0;32m--> 801\u001b[0m     \u001b[38;5;28;01mraise\u001b[39;00m e \u001b[38;5;28;01mfrom\u001b[39;00m \u001b[38;5;28;01mNone\u001b[39;00m\n",
      "File \u001b[0;32m/opt/conda/lib/python3.9/site-packages/coffea/processor/executor.py:786\u001b[0m, in \u001b[0;36mFuturesExecutor.__call__.<locals>._processwith\u001b[0;34m(pool, mergepool)\u001b[0m\n\u001b[1;32m    784\u001b[0m \u001b[38;5;28;01mtry\u001b[39;00m:\n\u001b[1;32m    785\u001b[0m     \u001b[38;5;28;01mif\u001b[39;00m mergepool \u001b[38;5;129;01mis\u001b[39;00m \u001b[38;5;28;01mNone\u001b[39;00m:\n\u001b[0;32m--> 786\u001b[0m         merged \u001b[38;5;241m=\u001b[39m \u001b[43m_watcher\u001b[49m\u001b[43m(\u001b[49m\u001b[43mFH\u001b[49m\u001b[43m,\u001b[49m\u001b[43m \u001b[49m\u001b[38;5;28;43mself\u001b[39;49m\u001b[43m,\u001b[49m\u001b[43m \u001b[49m\u001b[43mreducer\u001b[49m\u001b[43m,\u001b[49m\u001b[43m \u001b[49m\u001b[43mpool\u001b[49m\u001b[43m)\u001b[49m\n\u001b[1;32m    787\u001b[0m     \u001b[38;5;28;01melse\u001b[39;00m:\n\u001b[1;32m    788\u001b[0m         merged \u001b[38;5;241m=\u001b[39m _watcher(FH, \u001b[38;5;28mself\u001b[39m, reducer, mergepool)\n",
      "File \u001b[0;32m/opt/conda/lib/python3.9/site-packages/coffea/processor/executor.py:402\u001b[0m, in \u001b[0;36m_watcher\u001b[0;34m(FH, executor, merge_fcn, pool)\u001b[0m\n\u001b[1;32m    396\u001b[0m             progress\u001b[38;5;241m.\u001b[39mupdate(\n\u001b[1;32m    397\u001b[0m                 p_idm,\n\u001b[1;32m    398\u001b[0m                 total\u001b[38;5;241m=\u001b[39mprogress\u001b[38;5;241m.\u001b[39m_tasks[p_idm]\u001b[38;5;241m.\u001b[39mtotal \u001b[38;5;241m+\u001b[39m \u001b[38;5;241m1\u001b[39m,\n\u001b[1;32m    399\u001b[0m                 refresh\u001b[38;5;241m=\u001b[39m\u001b[38;5;28;01mTrue\u001b[39;00m,\n\u001b[1;32m    400\u001b[0m             )\n\u001b[1;32m    401\u001b[0m     \u001b[38;5;28;01melse\u001b[39;00m:  \u001b[38;5;66;03m# Merge within process\u001b[39;00m\n\u001b[0;32m--> 402\u001b[0m         batch \u001b[38;5;241m=\u001b[39m \u001b[43mFH\u001b[49m\u001b[38;5;241;43m.\u001b[39;49m\u001b[43mfetch\u001b[49m\u001b[43m(\u001b[49m\u001b[38;5;28;43mlen\u001b[39;49m\u001b[43m(\u001b[49m\u001b[43mFH\u001b[49m\u001b[38;5;241;43m.\u001b[39;49m\u001b[43mcompleted\u001b[49m\u001b[43m)\u001b[49m\u001b[43m)\u001b[49m\n\u001b[1;32m    403\u001b[0m         merged \u001b[38;5;241m=\u001b[39m _compress(\n\u001b[1;32m    404\u001b[0m             accumulate(\n\u001b[1;32m    405\u001b[0m                 progress\u001b[38;5;241m.\u001b[39mtrack(\n\u001b[0;32m   (...)\u001b[0m\n\u001b[1;32m    412\u001b[0m             executor\u001b[38;5;241m.\u001b[39mcompression,\n\u001b[1;32m    413\u001b[0m         )\n\u001b[1;32m    414\u001b[0m \u001b[38;5;66;03m# Add checkpointing\u001b[39;00m\n",
      "File \u001b[0;32m/opt/conda/lib/python3.9/site-packages/coffea/processor/executor.py:286\u001b[0m, in \u001b[0;36m_FuturesHolder.fetch\u001b[0;34m(self, N)\u001b[0m\n\u001b[1;32m    284\u001b[0m bad_futures \u001b[38;5;241m=\u001b[39m [future \u001b[38;5;28;01mfor\u001b[39;00m future \u001b[38;5;129;01min\u001b[39;00m _completed \u001b[38;5;28;01mif\u001b[39;00m \u001b[38;5;129;01mnot\u001b[39;00m _good_future(future)]\n\u001b[1;32m    285\u001b[0m \u001b[38;5;28mself\u001b[39m\u001b[38;5;241m.\u001b[39mcompleted\u001b[38;5;241m.\u001b[39mupdate(good_futures)\n\u001b[0;32m--> 286\u001b[0m \u001b[38;5;28;01mraise\u001b[39;00m bad_futures[\u001b[38;5;241m0\u001b[39m]\u001b[38;5;241m.\u001b[39mexception()\n",
      "\u001b[0;31mOSError\u001b[0m: XRootD error: [FATAL] Auth failed: No protocols left to try\nin file root://xcache//store/group/lpcmetx/SIDM/ffNtupleV4/2018/SIDM_XXTo2ATo2Mu2E_mXX-800_mA-0p25_ctau-1p2_TuneCP5_13TeV-madgraph-pythia8/RunIIAutumn18DRPremix-102X_upgrade2018_realistic_v15-v1/210326_161534/0000/ffNtuple_3.root"
     ]
    }
   ],
   "source": [
    "runner = processor.Runner(\n",
    "    #executor=processor.IterativeExecutor(),\n",
    "    executor=processor.FuturesExecutor(),\n",
    "    schema=ffschema.FFSchema,\n",
    ")\n",
    "\n",
    "p = sidm_processor.SidmProcessor(\n",
    "    [\n",
    "        \"2mu2e\",\n",
    "        \"2mu2e_matchedLj\",\n",
    "    ],\n",
    "    [\"base_plus_gen\"]\n",
    ")\n",
    "\n",
    "output = runner.run(fileset, treename=\"ffNtuplizer/ffNtuple\", processor_instance=p)\n",
    "#hists = output[\"out\"][samples[0]][\"hists\"]\n",
    "\n",
    "ch1 = \"2mu2e\"\n",
    "ch2 = \"2mu2e_matchedLj\""
   ]
  },
  {
   "cell_type": "code",
   "execution_count": null,
   "id": "839c0047-48d8-4c06-a3c7-977d4f1365d3",
   "metadata": {},
   "outputs": [],
   "source": [
    "legend_entries = [s[13:] for s in samples]\n",
    "nplots = 2\n",
    "\n",
    "# LJs:\n",
    "plt.subplot(2,1,1) # rows, columns, which subplot\n",
    "for S in samples:  \n",
    "    output[\"out\"][S][\"hists\"][\"matched_muon_n\"][ch1,:].plot(density=False, flow='none')\n",
    "plt.title(\"number of matched muons\")\n",
    "plt.legend(legend_entries, alignment=\"left\")\n",
    "#-----\n",
    "\n",
    "# Muons:\n",
    "plt.subplots(1, nplots, figsize=(nplots*12, 10))\n",
    "plt.subplot(1,nplots,1) # rows, columns, which subplot\n",
    "for S in samples:  # genAs_toMu_matched_lj\n",
    "    output[\"out\"][S][\"hists\"][\"genAs_toMu_invmass\"][ch1,:].plot(density=False, flow='none')\n",
    "plt.title(\"invariant mass of muons from genAs\")\n",
    "plt.legend(samples)\n",
    "\n",
    "plt.subplot(1,nplots,2)\n",
    "for S in samples: # mu_mu_invmass_lowRange\n",
    "    output[\"out\"][S][\"hists\"][\"muons_matched_muLj_invmass\"][ch1,:].plot(density=False, flow='none')\n",
    "plt.title(\"invariant mass of matched reco muons\")\n",
    "plt.legend(samples)\n",
    "#-----\n",
    "\n",
    "# Electrons:\n",
    "plt.subplots(1, nplots, figsize=(nplots*12, 10))\n",
    "plt.subplot(1,nplots,1)\n",
    "for S in samples: # genAs_toE_matched_lj\n",
    "    output[\"out\"][S][\"hists\"][\"genAs_toE_invmass\"][ch1,:].plot(density=False, flow='none')\n",
    "plt.title(\"invariant mass of electrons from genAs\")\n",
    "plt.legend(samples)\n",
    "\n",
    "plt.subplot(1,nplots,2)\n",
    "for S in samples: # egm_egm_invmass_lowRange | electron_invmass\n",
    "    output[\"out\"][S][\"hists\"][\"electrons_matched_egmLj_invmass\"][ch1,:].plot(density=False, flow='none')\n",
    "plt.title(\"invariant mass of matched reco electrons\")\n",
    "plt.legend(samples)"
   ]
  }
 ],
 "metadata": {
  "kernelspec": {
   "display_name": "Python 3 (ipykernel)",
   "language": "python",
   "name": "python3"
  },
  "language_info": {
   "codemirror_mode": {
    "name": "ipython",
    "version": 3
   },
   "file_extension": ".py",
   "mimetype": "text/x-python",
   "name": "python",
   "nbconvert_exporter": "python",
   "pygments_lexer": "ipython3",
   "version": "3.9.18"
  }
 },
 "nbformat": 4,
 "nbformat_minor": 5
}
